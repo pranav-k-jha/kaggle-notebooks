{
 "cells": [
  {
   "cell_type": "code",
   "execution_count": 1,
   "id": "e96853df",
   "metadata": {
    "_cell_guid": "b1076dfc-b9ad-4769-8c92-a6c4dae69d19",
    "_uuid": "8f2839f25d086af736a60e9eeb907d3b93b6e0e5",
    "execution": {
     "iopub.execute_input": "2025-02-26T20:47:06.771684Z",
     "iopub.status.busy": "2025-02-26T20:47:06.771299Z",
     "iopub.status.idle": "2025-02-26T20:47:09.525377Z",
     "shell.execute_reply": "2025-02-26T20:47:09.524627Z"
    },
    "papermill": {
     "duration": 2.765335,
     "end_time": "2025-02-26T20:47:09.527052",
     "exception": false,
     "start_time": "2025-02-26T20:47:06.761717",
     "status": "completed"
    },
    "tags": []
   },
   "outputs": [],
   "source": [
    "import numpy as np\n",
    "import pandas as pd \n",
    "import matplotlib.pyplot as plt\n",
    "import seaborn as sns\n",
    "from sklearn.ensemble import RandomForestClassifier\n",
    "from sklearn.metrics import accuracy_score, classification_report\n",
    "from sklearn.model_selection import train_test_split\n",
    "from sklearn.preprocessing import StandardScaler\n",
    "from imblearn.over_sampling import SMOTE\n",
    "import joblib\n",
    "import re\n"
   ]
  },
  {
   "cell_type": "code",
   "execution_count": 2,
   "id": "311823e9",
   "metadata": {
    "execution": {
     "iopub.execute_input": "2025-02-26T20:47:09.544089Z",
     "iopub.status.busy": "2025-02-26T20:47:09.543509Z",
     "iopub.status.idle": "2025-02-26T20:47:16.125950Z",
     "shell.execute_reply": "2025-02-26T20:47:16.124907Z"
    },
    "papermill": {
     "duration": 6.592776,
     "end_time": "2025-02-26T20:47:16.127325",
     "exception": false,
     "start_time": "2025-02-26T20:47:09.534549",
     "status": "completed"
    },
    "tags": []
   },
   "outputs": [
    {
     "data": {
      "text/html": [
       "<div>\n",
       "<style scoped>\n",
       "    .dataframe tbody tr th:only-of-type {\n",
       "        vertical-align: middle;\n",
       "    }\n",
       "\n",
       "    .dataframe tbody tr th {\n",
       "        vertical-align: top;\n",
       "    }\n",
       "\n",
       "    .dataframe thead th {\n",
       "        text-align: right;\n",
       "    }\n",
       "</style>\n",
       "<table border=\"1\" class=\"dataframe\">\n",
       "  <thead>\n",
       "    <tr style=\"text-align: right;\">\n",
       "      <th></th>\n",
       "      <th>Timestamp</th>\n",
       "      <th>CAN ID</th>\n",
       "      <th>DLC</th>\n",
       "      <th>DATA0</th>\n",
       "      <th>DATA1</th>\n",
       "      <th>DATA2</th>\n",
       "      <th>DATA3</th>\n",
       "      <th>DATA4</th>\n",
       "      <th>DATA5</th>\n",
       "      <th>DATA6</th>\n",
       "      <th>DATA7</th>\n",
       "      <th>Flag</th>\n",
       "    </tr>\n",
       "  </thead>\n",
       "  <tbody>\n",
       "    <tr>\n",
       "      <th>0</th>\n",
       "      <td>1.478198e+09</td>\n",
       "      <td>018f</td>\n",
       "      <td>8</td>\n",
       "      <td>fe</td>\n",
       "      <td>5b</td>\n",
       "      <td>00</td>\n",
       "      <td>00</td>\n",
       "      <td>00</td>\n",
       "      <td>3c</td>\n",
       "      <td>00</td>\n",
       "      <td>00</td>\n",
       "      <td>R</td>\n",
       "    </tr>\n",
       "    <tr>\n",
       "      <th>1</th>\n",
       "      <td>1.478198e+09</td>\n",
       "      <td>0260</td>\n",
       "      <td>8</td>\n",
       "      <td>19</td>\n",
       "      <td>21</td>\n",
       "      <td>22</td>\n",
       "      <td>30</td>\n",
       "      <td>08</td>\n",
       "      <td>8e</td>\n",
       "      <td>6d</td>\n",
       "      <td>3a</td>\n",
       "      <td>R</td>\n",
       "    </tr>\n",
       "    <tr>\n",
       "      <th>2</th>\n",
       "      <td>1.478198e+09</td>\n",
       "      <td>02a0</td>\n",
       "      <td>8</td>\n",
       "      <td>64</td>\n",
       "      <td>00</td>\n",
       "      <td>9a</td>\n",
       "      <td>1d</td>\n",
       "      <td>97</td>\n",
       "      <td>02</td>\n",
       "      <td>bd</td>\n",
       "      <td>00</td>\n",
       "      <td>R</td>\n",
       "    </tr>\n",
       "    <tr>\n",
       "      <th>3</th>\n",
       "      <td>1.478198e+09</td>\n",
       "      <td>0329</td>\n",
       "      <td>8</td>\n",
       "      <td>40</td>\n",
       "      <td>bb</td>\n",
       "      <td>7f</td>\n",
       "      <td>14</td>\n",
       "      <td>11</td>\n",
       "      <td>20</td>\n",
       "      <td>00</td>\n",
       "      <td>14</td>\n",
       "      <td>R</td>\n",
       "    </tr>\n",
       "    <tr>\n",
       "      <th>4</th>\n",
       "      <td>1.478198e+09</td>\n",
       "      <td>0545</td>\n",
       "      <td>8</td>\n",
       "      <td>d8</td>\n",
       "      <td>00</td>\n",
       "      <td>00</td>\n",
       "      <td>8a</td>\n",
       "      <td>00</td>\n",
       "      <td>00</td>\n",
       "      <td>00</td>\n",
       "      <td>00</td>\n",
       "      <td>R</td>\n",
       "    </tr>\n",
       "  </tbody>\n",
       "</table>\n",
       "</div>"
      ],
      "text/plain": [
       "      Timestamp CAN ID  DLC DATA0 DATA1 DATA2 DATA3 DATA4 DATA5 DATA6 DATA7  \\\n",
       "0  1.478198e+09   018f    8    fe    5b    00    00    00    3c    00    00   \n",
       "1  1.478198e+09   0260    8    19    21    22    30    08    8e    6d    3a   \n",
       "2  1.478198e+09   02a0    8    64    00    9a    1d    97    02    bd    00   \n",
       "3  1.478198e+09   0329    8    40    bb    7f    14    11    20    00    14   \n",
       "4  1.478198e+09   0545    8    d8    00    00    8a    00    00    00    00   \n",
       "\n",
       "  Flag  \n",
       "0    R  \n",
       "1    R  \n",
       "2    R  \n",
       "3    R  \n",
       "4    R  "
      ]
     },
     "execution_count": 2,
     "metadata": {},
     "output_type": "execute_result"
    }
   ],
   "source": [
    "dos_df = pd.read_csv('/kaggle/input/car-hacking-dataset/DoS_dataset.csv')\n",
    "dos_df.columns = ['Timestamp', 'CAN ID', 'DLC', 'DATA0', 'DATA1', 'DATA2', 'DATA3', 'DATA4', 'DATA5', 'DATA6', 'DATA7', 'Flag']\n",
    "dos_df.head()"
   ]
  },
  {
   "cell_type": "code",
   "execution_count": 3,
   "id": "daf125c4",
   "metadata": {
    "execution": {
     "iopub.execute_input": "2025-02-26T20:47:16.142265Z",
     "iopub.status.busy": "2025-02-26T20:47:16.141958Z",
     "iopub.status.idle": "2025-02-26T20:47:18.393854Z",
     "shell.execute_reply": "2025-02-26T20:47:18.392847Z"
    },
    "papermill": {
     "duration": 2.260807,
     "end_time": "2025-02-26T20:47:18.395347",
     "exception": false,
     "start_time": "2025-02-26T20:47:16.134540",
     "status": "completed"
    },
    "tags": []
   },
   "outputs": [
    {
     "data": {
      "text/plain": [
       "Timestamp    3665770\n",
       "CAN ID            27\n",
       "DLC                2\n",
       "DATA0            108\n",
       "DATA1             71\n",
       "DATA2             76\n",
       "DATA3             26\n",
       "DATA4            190\n",
       "DATA5            256\n",
       "DATA6             75\n",
       "DATA7            256\n",
       "Flag               2\n",
       "dtype: int64"
      ]
     },
     "execution_count": 3,
     "metadata": {},
     "output_type": "execute_result"
    }
   ],
   "source": [
    "dos_df.nunique()"
   ]
  },
  {
   "cell_type": "code",
   "execution_count": 4,
   "id": "2d37f18f",
   "metadata": {
    "execution": {
     "iopub.execute_input": "2025-02-26T20:47:18.410470Z",
     "iopub.status.busy": "2025-02-26T20:47:18.410156Z",
     "iopub.status.idle": "2025-02-26T20:47:19.183353Z",
     "shell.execute_reply": "2025-02-26T20:47:19.182384Z"
    },
    "papermill": {
     "duration": 0.781945,
     "end_time": "2025-02-26T20:47:19.184832",
     "exception": false,
     "start_time": "2025-02-26T20:47:18.402887",
     "status": "completed"
    },
    "tags": []
   },
   "outputs": [
    {
     "data": {
      "text/html": [
       "<div>\n",
       "<style scoped>\n",
       "    .dataframe tbody tr th:only-of-type {\n",
       "        vertical-align: middle;\n",
       "    }\n",
       "\n",
       "    .dataframe tbody tr th {\n",
       "        vertical-align: top;\n",
       "    }\n",
       "\n",
       "    .dataframe thead th {\n",
       "        text-align: right;\n",
       "    }\n",
       "</style>\n",
       "<table border=\"1\" class=\"dataframe\">\n",
       "  <thead>\n",
       "    <tr style=\"text-align: right;\">\n",
       "      <th></th>\n",
       "      <th>CAN ID</th>\n",
       "      <th>DLC</th>\n",
       "      <th>DATA0</th>\n",
       "      <th>DATA1</th>\n",
       "      <th>DATA2</th>\n",
       "      <th>DATA3</th>\n",
       "      <th>DATA4</th>\n",
       "      <th>DATA5</th>\n",
       "      <th>DATA6</th>\n",
       "      <th>DATA7</th>\n",
       "      <th>Flag</th>\n",
       "    </tr>\n",
       "  </thead>\n",
       "  <tbody>\n",
       "    <tr>\n",
       "      <th>0</th>\n",
       "      <td>018f</td>\n",
       "      <td>8</td>\n",
       "      <td>fe</td>\n",
       "      <td>5b</td>\n",
       "      <td>00</td>\n",
       "      <td>00</td>\n",
       "      <td>00</td>\n",
       "      <td>3c</td>\n",
       "      <td>00</td>\n",
       "      <td>00</td>\n",
       "      <td>R</td>\n",
       "    </tr>\n",
       "    <tr>\n",
       "      <th>1</th>\n",
       "      <td>0260</td>\n",
       "      <td>8</td>\n",
       "      <td>19</td>\n",
       "      <td>21</td>\n",
       "      <td>22</td>\n",
       "      <td>30</td>\n",
       "      <td>08</td>\n",
       "      <td>8e</td>\n",
       "      <td>6d</td>\n",
       "      <td>3a</td>\n",
       "      <td>R</td>\n",
       "    </tr>\n",
       "    <tr>\n",
       "      <th>2</th>\n",
       "      <td>02a0</td>\n",
       "      <td>8</td>\n",
       "      <td>64</td>\n",
       "      <td>00</td>\n",
       "      <td>9a</td>\n",
       "      <td>1d</td>\n",
       "      <td>97</td>\n",
       "      <td>02</td>\n",
       "      <td>bd</td>\n",
       "      <td>00</td>\n",
       "      <td>R</td>\n",
       "    </tr>\n",
       "    <tr>\n",
       "      <th>3</th>\n",
       "      <td>0329</td>\n",
       "      <td>8</td>\n",
       "      <td>40</td>\n",
       "      <td>bb</td>\n",
       "      <td>7f</td>\n",
       "      <td>14</td>\n",
       "      <td>11</td>\n",
       "      <td>20</td>\n",
       "      <td>00</td>\n",
       "      <td>14</td>\n",
       "      <td>R</td>\n",
       "    </tr>\n",
       "    <tr>\n",
       "      <th>4</th>\n",
       "      <td>0545</td>\n",
       "      <td>8</td>\n",
       "      <td>d8</td>\n",
       "      <td>00</td>\n",
       "      <td>00</td>\n",
       "      <td>8a</td>\n",
       "      <td>00</td>\n",
       "      <td>00</td>\n",
       "      <td>00</td>\n",
       "      <td>00</td>\n",
       "      <td>R</td>\n",
       "    </tr>\n",
       "  </tbody>\n",
       "</table>\n",
       "</div>"
      ],
      "text/plain": [
       "  CAN ID  DLC DATA0 DATA1 DATA2 DATA3 DATA4 DATA5 DATA6 DATA7 Flag\n",
       "0   018f    8    fe    5b    00    00    00    3c    00    00    R\n",
       "1   0260    8    19    21    22    30    08    8e    6d    3a    R\n",
       "2   02a0    8    64    00    9a    1d    97    02    bd    00    R\n",
       "3   0329    8    40    bb    7f    14    11    20    00    14    R\n",
       "4   0545    8    d8    00    00    8a    00    00    00    00    R"
      ]
     },
     "execution_count": 4,
     "metadata": {},
     "output_type": "execute_result"
    }
   ],
   "source": [
    "df_2 = dos_df.copy()\n",
    "df_2.drop('Timestamp', axis=1, inplace=True)\n",
    "df_2.head()"
   ]
  },
  {
   "cell_type": "code",
   "execution_count": 5,
   "id": "b8015f87",
   "metadata": {
    "execution": {
     "iopub.execute_input": "2025-02-26T20:47:19.200469Z",
     "iopub.status.busy": "2025-02-26T20:47:19.200206Z",
     "iopub.status.idle": "2025-02-26T20:47:21.000269Z",
     "shell.execute_reply": "2025-02-26T20:47:20.999403Z"
    },
    "papermill": {
     "duration": 1.809489,
     "end_time": "2025-02-26T20:47:21.001911",
     "exception": false,
     "start_time": "2025-02-26T20:47:19.192422",
     "status": "completed"
    },
    "tags": []
   },
   "outputs": [
    {
     "data": {
      "text/plain": [
       "CAN ID        0\n",
       "DLC           0\n",
       "DATA0         0\n",
       "DATA1         0\n",
       "DATA2         0\n",
       "DATA3     31188\n",
       "DATA4     31188\n",
       "DATA5     31188\n",
       "DATA6     31188\n",
       "DATA7     31188\n",
       "Flag      31188\n",
       "dtype: int64"
      ]
     },
     "execution_count": 5,
     "metadata": {},
     "output_type": "execute_result"
    }
   ],
   "source": [
    "missing_values = df_2.isnull().sum()\n",
    "missing_values"
   ]
  },
  {
   "cell_type": "code",
   "execution_count": 6,
   "id": "fef7b251",
   "metadata": {
    "execution": {
     "iopub.execute_input": "2025-02-26T20:47:21.017709Z",
     "iopub.status.busy": "2025-02-26T20:47:21.017401Z",
     "iopub.status.idle": "2025-02-26T20:47:21.065648Z",
     "shell.execute_reply": "2025-02-26T20:47:21.064827Z"
    },
    "papermill": {
     "duration": 0.057386,
     "end_time": "2025-02-26T20:47:21.067064",
     "exception": false,
     "start_time": "2025-02-26T20:47:21.009678",
     "status": "completed"
    },
    "tags": []
   },
   "outputs": [
    {
     "data": {
      "text/plain": [
       "(    CAN ID  DLC DATA0 DATA1 DATA2 DATA3 DATA4 DATA5 DATA6 DATA7 Flag\n",
       " 35    05f0    2    01    00     R   NaN   NaN   NaN   NaN   NaN  NaN\n",
       " 134   05f0    2    01    00     R   NaN   NaN   NaN   NaN   NaN  NaN\n",
       " 226   05f0    2    01    00     R   NaN   NaN   NaN   NaN   NaN  NaN\n",
       " 319   05f0    2    01    00     R   NaN   NaN   NaN   NaN   NaN  NaN\n",
       " 411   05f0    2    01    00     R   NaN   NaN   NaN   NaN   NaN  NaN,\n",
       " (31188, 11))"
      ]
     },
     "execution_count": 6,
     "metadata": {},
     "output_type": "execute_result"
    }
   ],
   "source": [
    "df_dlc_is_2 = df_2[df_2[\"DLC\"] == 2].copy()\n",
    "df_dlc_is_2.head(), df_dlc_is_2.shape"
   ]
  },
  {
   "cell_type": "code",
   "execution_count": 7,
   "id": "f5230c26",
   "metadata": {
    "execution": {
     "iopub.execute_input": "2025-02-26T20:47:21.082200Z",
     "iopub.status.busy": "2025-02-26T20:47:21.081895Z",
     "iopub.status.idle": "2025-02-26T20:47:21.369296Z",
     "shell.execute_reply": "2025-02-26T20:47:21.368169Z"
    },
    "papermill": {
     "duration": 0.296749,
     "end_time": "2025-02-26T20:47:21.371046",
     "exception": false,
     "start_time": "2025-02-26T20:47:21.074297",
     "status": "completed"
    },
    "tags": []
   },
   "outputs": [
    {
     "data": {
      "text/plain": [
       "(    CAN ID  DLC DATA0 DATA1 DATA2 DATA3 DATA4 DATA5 DATA6 DATA7 Flag\n",
       " 35    05f0    2    01    00     R   NaN   NaN   NaN   NaN   NaN  NaN\n",
       " 134   05f0    2    01    00     R   NaN   NaN   NaN   NaN   NaN  NaN\n",
       " 226   05f0    2    01    00     R   NaN   NaN   NaN   NaN   NaN  NaN\n",
       " 319   05f0    2    01    00     R   NaN   NaN   NaN   NaN   NaN  NaN\n",
       " 411   05f0    2    01    00     R   NaN   NaN   NaN   NaN   NaN  NaN,\n",
       " (31188, 11))"
      ]
     },
     "execution_count": 7,
     "metadata": {},
     "output_type": "execute_result"
    }
   ],
   "source": [
    "df_d2_nan = df_2[df_2[\"DATA2\"] == 'R'].copy()\n",
    "df_d2_nan.head(), df_d2_nan.shape"
   ]
  },
  {
   "cell_type": "code",
   "execution_count": 8,
   "id": "e45d3b8b",
   "metadata": {
    "execution": {
     "iopub.execute_input": "2025-02-26T20:47:21.387061Z",
     "iopub.status.busy": "2025-02-26T20:47:21.386790Z",
     "iopub.status.idle": "2025-02-26T20:47:21.906175Z",
     "shell.execute_reply": "2025-02-26T20:47:21.905310Z"
    },
    "papermill": {
     "duration": 0.528898,
     "end_time": "2025-02-26T20:47:21.907515",
     "exception": false,
     "start_time": "2025-02-26T20:47:21.378617",
     "status": "completed"
    },
    "tags": []
   },
   "outputs": [
    {
     "data": {
      "text/plain": [
       "(    CAN ID  DLC DATA0 DATA1 DATA2 DATA3 DATA4 DATA5 DATA6 DATA7 Flag\n",
       " 35    05f0    2    01    00     R   NaN   NaN   NaN   NaN   NaN  NaN\n",
       " 134   05f0    2    01    00     R   NaN   NaN   NaN   NaN   NaN  NaN\n",
       " 226   05f0    2    01    00     R   NaN   NaN   NaN   NaN   NaN  NaN\n",
       " 319   05f0    2    01    00     R   NaN   NaN   NaN   NaN   NaN  NaN\n",
       " 411   05f0    2    01    00     R   NaN   NaN   NaN   NaN   NaN  NaN\n",
       " 504   05f0    2    01    00     R   NaN   NaN   NaN   NaN   NaN  NaN\n",
       " 596   05f0    2    01    00     R   NaN   NaN   NaN   NaN   NaN  NaN\n",
       " 689   05f0    2    01    00     R   NaN   NaN   NaN   NaN   NaN  NaN\n",
       " 781   05f0    2    01    00     R   NaN   NaN   NaN   NaN   NaN  NaN\n",
       " 874   05f0    2    01    00     R   NaN   NaN   NaN   NaN   NaN  NaN,\n",
       " (31188, 11))"
      ]
     },
     "execution_count": 8,
     "metadata": {},
     "output_type": "execute_result"
    }
   ],
   "source": [
    "df_flag_nan = df_2[(df_2[\"Flag\"] != \"T\") & (df_2[\"Flag\"] != \"R\")]\n",
    "df_flag_nan.head(10), df_flag_nan.shape"
   ]
  },
  {
   "cell_type": "code",
   "execution_count": 9,
   "id": "1e40eebb",
   "metadata": {
    "execution": {
     "iopub.execute_input": "2025-02-26T20:47:21.923382Z",
     "iopub.status.busy": "2025-02-26T20:47:21.923109Z",
     "iopub.status.idle": "2025-02-26T20:47:22.240453Z",
     "shell.execute_reply": "2025-02-26T20:47:22.239604Z"
    },
    "papermill": {
     "duration": 0.32678,
     "end_time": "2025-02-26T20:47:22.241981",
     "exception": false,
     "start_time": "2025-02-26T20:47:21.915201",
     "status": "completed"
    },
    "tags": []
   },
   "outputs": [],
   "source": [
    "df_3 = df_2.copy()"
   ]
  },
  {
   "cell_type": "code",
   "execution_count": 10,
   "id": "f4fc769a",
   "metadata": {
    "execution": {
     "iopub.execute_input": "2025-02-26T20:47:22.259721Z",
     "iopub.status.busy": "2025-02-26T20:47:22.259411Z",
     "iopub.status.idle": "2025-02-26T20:47:22.368490Z",
     "shell.execute_reply": "2025-02-26T20:47:22.367341Z"
    },
    "papermill": {
     "duration": 0.119611,
     "end_time": "2025-02-26T20:47:22.370071",
     "exception": false,
     "start_time": "2025-02-26T20:47:22.250460",
     "status": "completed"
    },
    "tags": []
   },
   "outputs": [
    {
     "name": "stdout",
     "output_type": "stream",
     "text": [
      "    CAN ID  DLC DATA0 DATA1 DATA2 DATA3 DATA4 DATA5 DATA6 DATA7 Flag\n",
      "35    05f0    2    01    00   NaN   NaN   NaN   NaN   NaN   NaN    R\n",
      "134   05f0    2    01    00   NaN   NaN   NaN   NaN   NaN   NaN    R\n",
      "226   05f0    2    01    00   NaN   NaN   NaN   NaN   NaN   NaN    R\n",
      "319   05f0    2    01    00   NaN   NaN   NaN   NaN   NaN   NaN    R\n",
      "411   05f0    2    01    00   NaN   NaN   NaN   NaN   NaN   NaN    R\n"
     ]
    }
   ],
   "source": [
    "# For rows with DLC=2, move 'R' from DATA2 to Flag\n",
    "mask = df_3[\"DLC\"] == 2\n",
    "df_3.loc[mask, \"Flag\"] = df_3.loc[mask, \"DATA2\"]  # Copy 'R' to Flag\n",
    "df_3.loc[mask, \"DATA2\"] = np.nan  # Set DATA2 to NaN for DLC=2\n",
    "\n",
    "\n",
    "\n",
    "# Verify alignment\n",
    "print(df_3[df_3[\"DLC\"] == 2].head())"
   ]
  },
  {
   "cell_type": "code",
   "execution_count": 11,
   "id": "a302fda1",
   "metadata": {
    "execution": {
     "iopub.execute_input": "2025-02-26T20:47:22.385914Z",
     "iopub.status.busy": "2025-02-26T20:47:22.385658Z",
     "iopub.status.idle": "2025-02-26T20:47:22.705797Z",
     "shell.execute_reply": "2025-02-26T20:47:22.704629Z"
    },
    "papermill": {
     "duration": 0.329806,
     "end_time": "2025-02-26T20:47:22.707585",
     "exception": false,
     "start_time": "2025-02-26T20:47:22.377779",
     "status": "completed"
    },
    "tags": []
   },
   "outputs": [],
   "source": [
    "df_4 = df_3.copy()"
   ]
  },
  {
   "cell_type": "code",
   "execution_count": 12,
   "id": "1a0695cc",
   "metadata": {
    "execution": {
     "iopub.execute_input": "2025-02-26T20:47:22.724436Z",
     "iopub.status.busy": "2025-02-26T20:47:22.724139Z",
     "iopub.status.idle": "2025-02-26T20:47:25.574322Z",
     "shell.execute_reply": "2025-02-26T20:47:25.573332Z"
    },
    "papermill": {
     "duration": 2.859582,
     "end_time": "2025-02-26T20:47:25.575620",
     "exception": false,
     "start_time": "2025-02-26T20:47:22.716038",
     "status": "completed"
    },
    "tags": []
   },
   "outputs": [
    {
     "name": "stdout",
     "output_type": "stream",
     "text": [
      "    CAN ID  DLC DATA0 DATA1 DATA2 DATA3 DATA4 DATA5 DATA6 DATA7 Flag\n",
      "35    05f0    2    01    00    00    00    00    00    00    00    R\n",
      "134   05f0    2    01    00    00    00    00    00    00    00    R\n",
      "226   05f0    2    01    00    00    00    00    00    00    00    R\n",
      "319   05f0    2    01    00    00    00    00    00    00    00    R\n",
      "411   05f0    2    01    00    00    00    00    00    00    00    R\n"
     ]
    },
    {
     "data": {
      "text/plain": [
       "(None, (31188, 11))"
      ]
     },
     "execution_count": 12,
     "metadata": {},
     "output_type": "execute_result"
    }
   ],
   "source": [
    "# Fill NaN with hex 00\n",
    "default_hex = '00'\n",
    "data_columns = ['DATA2', 'DATA3', 'DATA4', 'DATA5', 'DATA6', 'DATA7', 'Flag']\n",
    "df_4[data_columns] = df_4[data_columns].fillna(default_hex)\n",
    "print(df_4[df_4[\"DLC\"] == 2].head()), df_4[df_4[\"DLC\"] == 2].shape"
   ]
  },
  {
   "cell_type": "code",
   "execution_count": 13,
   "id": "573d64e8",
   "metadata": {
    "execution": {
     "iopub.execute_input": "2025-02-26T20:47:25.592288Z",
     "iopub.status.busy": "2025-02-26T20:47:25.592014Z",
     "iopub.status.idle": "2025-02-26T20:47:25.600408Z",
     "shell.execute_reply": "2025-02-26T20:47:25.599650Z"
    },
    "papermill": {
     "duration": 0.018299,
     "end_time": "2025-02-26T20:47:25.602095",
     "exception": false,
     "start_time": "2025-02-26T20:47:25.583796",
     "status": "completed"
    },
    "tags": []
   },
   "outputs": [
    {
     "data": {
      "text/plain": [
       "(  CAN ID  DLC DATA0 DATA1 DATA2 DATA3 DATA4 DATA5 DATA6 DATA7 Flag\n",
       " 0   018f    8    fe    5b    00    00    00    3c    00    00    R\n",
       " 1   0260    8    19    21    22    30    08    8e    6d    3a    R\n",
       " 2   02a0    8    64    00    9a    1d    97    02    bd    00    R\n",
       " 3   0329    8    40    bb    7f    14    11    20    00    14    R\n",
       " 4   0545    8    d8    00    00    8a    00    00    00    00    R,\n",
       " (3665770, 11))"
      ]
     },
     "execution_count": 13,
     "metadata": {},
     "output_type": "execute_result"
    }
   ],
   "source": [
    "df_4.head(), df_4.shape"
   ]
  },
  {
   "cell_type": "code",
   "execution_count": 14,
   "id": "228d5df8",
   "metadata": {
    "execution": {
     "iopub.execute_input": "2025-02-26T20:47:25.619732Z",
     "iopub.status.busy": "2025-02-26T20:47:25.619476Z",
     "iopub.status.idle": "2025-02-26T20:47:26.106376Z",
     "shell.execute_reply": "2025-02-26T20:47:26.105507Z"
    },
    "papermill": {
     "duration": 0.497651,
     "end_time": "2025-02-26T20:47:26.107817",
     "exception": false,
     "start_time": "2025-02-26T20:47:25.610166",
     "status": "completed"
    },
    "tags": []
   },
   "outputs": [
    {
     "data": {
      "text/html": [
       "<div>\n",
       "<style scoped>\n",
       "    .dataframe tbody tr th:only-of-type {\n",
       "        vertical-align: middle;\n",
       "    }\n",
       "\n",
       "    .dataframe tbody tr th {\n",
       "        vertical-align: top;\n",
       "    }\n",
       "\n",
       "    .dataframe thead th {\n",
       "        text-align: right;\n",
       "    }\n",
       "</style>\n",
       "<table border=\"1\" class=\"dataframe\">\n",
       "  <thead>\n",
       "    <tr style=\"text-align: right;\">\n",
       "      <th></th>\n",
       "      <th>CAN ID</th>\n",
       "      <th>DLC</th>\n",
       "      <th>DATA0</th>\n",
       "      <th>DATA1</th>\n",
       "      <th>DATA2</th>\n",
       "      <th>DATA3</th>\n",
       "      <th>DATA4</th>\n",
       "      <th>DATA5</th>\n",
       "      <th>DATA6</th>\n",
       "      <th>DATA7</th>\n",
       "      <th>Flag</th>\n",
       "    </tr>\n",
       "  </thead>\n",
       "  <tbody>\n",
       "  </tbody>\n",
       "</table>\n",
       "</div>"
      ],
      "text/plain": [
       "Empty DataFrame\n",
       "Columns: [CAN ID, DLC, DATA0, DATA1, DATA2, DATA3, DATA4, DATA5, DATA6, DATA7, Flag]\n",
       "Index: []"
      ]
     },
     "execution_count": 14,
     "metadata": {},
     "output_type": "execute_result"
    }
   ],
   "source": [
    "df_4[(df_4[\"Flag\"] != \"T\") & (df_4[\"Flag\"] != \"R\")]\n"
   ]
  },
  {
   "cell_type": "code",
   "execution_count": 15,
   "id": "bac0f308",
   "metadata": {
    "execution": {
     "iopub.execute_input": "2025-02-26T20:47:26.125487Z",
     "iopub.status.busy": "2025-02-26T20:47:26.125221Z",
     "iopub.status.idle": "2025-02-26T20:47:26.382312Z",
     "shell.execute_reply": "2025-02-26T20:47:26.381199Z"
    },
    "papermill": {
     "duration": 0.267519,
     "end_time": "2025-02-26T20:47:26.383861",
     "exception": false,
     "start_time": "2025-02-26T20:47:26.116342",
     "status": "completed"
    },
    "tags": []
   },
   "outputs": [
    {
     "data": {
      "text/html": [
       "<div>\n",
       "<style scoped>\n",
       "    .dataframe tbody tr th:only-of-type {\n",
       "        vertical-align: middle;\n",
       "    }\n",
       "\n",
       "    .dataframe tbody tr th {\n",
       "        vertical-align: top;\n",
       "    }\n",
       "\n",
       "    .dataframe thead th {\n",
       "        text-align: right;\n",
       "    }\n",
       "</style>\n",
       "<table border=\"1\" class=\"dataframe\">\n",
       "  <thead>\n",
       "    <tr style=\"text-align: right;\">\n",
       "      <th></th>\n",
       "      <th>CAN ID</th>\n",
       "      <th>DLC</th>\n",
       "      <th>DATA0</th>\n",
       "      <th>DATA1</th>\n",
       "      <th>DATA2</th>\n",
       "      <th>DATA3</th>\n",
       "      <th>DATA4</th>\n",
       "      <th>DATA5</th>\n",
       "      <th>DATA6</th>\n",
       "      <th>DATA7</th>\n",
       "      <th>Flag</th>\n",
       "    </tr>\n",
       "  </thead>\n",
       "  <tbody>\n",
       "  </tbody>\n",
       "</table>\n",
       "</div>"
      ],
      "text/plain": [
       "Empty DataFrame\n",
       "Columns: [CAN ID, DLC, DATA0, DATA1, DATA2, DATA3, DATA4, DATA5, DATA6, DATA7, Flag]\n",
       "Index: []"
      ]
     },
     "execution_count": 15,
     "metadata": {},
     "output_type": "execute_result"
    }
   ],
   "source": [
    "df_4[df_4[\"DATA2\"] == 'R'].head()"
   ]
  },
  {
   "cell_type": "code",
   "execution_count": 16,
   "id": "7957d6a4",
   "metadata": {
    "execution": {
     "iopub.execute_input": "2025-02-26T20:47:26.402894Z",
     "iopub.status.busy": "2025-02-26T20:47:26.402615Z",
     "iopub.status.idle": "2025-02-26T20:47:28.363626Z",
     "shell.execute_reply": "2025-02-26T20:47:28.362543Z"
    },
    "papermill": {
     "duration": 1.971788,
     "end_time": "2025-02-26T20:47:28.365053",
     "exception": false,
     "start_time": "2025-02-26T20:47:26.393265",
     "status": "completed"
    },
    "tags": []
   },
   "outputs": [
    {
     "data": {
      "text/html": [
       "<div>\n",
       "<style scoped>\n",
       "    .dataframe tbody tr th:only-of-type {\n",
       "        vertical-align: middle;\n",
       "    }\n",
       "\n",
       "    .dataframe tbody tr th {\n",
       "        vertical-align: top;\n",
       "    }\n",
       "\n",
       "    .dataframe thead th {\n",
       "        text-align: right;\n",
       "    }\n",
       "</style>\n",
       "<table border=\"1\" class=\"dataframe\">\n",
       "  <thead>\n",
       "    <tr style=\"text-align: right;\">\n",
       "      <th></th>\n",
       "      <th>CAN ID</th>\n",
       "      <th>DATA0</th>\n",
       "      <th>DATA1</th>\n",
       "      <th>DATA2</th>\n",
       "      <th>DATA3</th>\n",
       "      <th>DATA4</th>\n",
       "      <th>DATA5</th>\n",
       "      <th>DATA6</th>\n",
       "      <th>DATA7</th>\n",
       "      <th>Flag</th>\n",
       "    </tr>\n",
       "  </thead>\n",
       "  <tbody>\n",
       "    <tr>\n",
       "      <th>0</th>\n",
       "      <td>018f</td>\n",
       "      <td>fe</td>\n",
       "      <td>5b</td>\n",
       "      <td>00</td>\n",
       "      <td>00</td>\n",
       "      <td>00</td>\n",
       "      <td>3c</td>\n",
       "      <td>00</td>\n",
       "      <td>00</td>\n",
       "      <td>R</td>\n",
       "    </tr>\n",
       "    <tr>\n",
       "      <th>1</th>\n",
       "      <td>0260</td>\n",
       "      <td>19</td>\n",
       "      <td>21</td>\n",
       "      <td>22</td>\n",
       "      <td>30</td>\n",
       "      <td>08</td>\n",
       "      <td>8e</td>\n",
       "      <td>6d</td>\n",
       "      <td>3a</td>\n",
       "      <td>R</td>\n",
       "    </tr>\n",
       "    <tr>\n",
       "      <th>2</th>\n",
       "      <td>02a0</td>\n",
       "      <td>64</td>\n",
       "      <td>00</td>\n",
       "      <td>9a</td>\n",
       "      <td>1d</td>\n",
       "      <td>97</td>\n",
       "      <td>02</td>\n",
       "      <td>bd</td>\n",
       "      <td>00</td>\n",
       "      <td>R</td>\n",
       "    </tr>\n",
       "    <tr>\n",
       "      <th>3</th>\n",
       "      <td>0329</td>\n",
       "      <td>40</td>\n",
       "      <td>bb</td>\n",
       "      <td>7f</td>\n",
       "      <td>14</td>\n",
       "      <td>11</td>\n",
       "      <td>20</td>\n",
       "      <td>00</td>\n",
       "      <td>14</td>\n",
       "      <td>R</td>\n",
       "    </tr>\n",
       "    <tr>\n",
       "      <th>4</th>\n",
       "      <td>0545</td>\n",
       "      <td>d8</td>\n",
       "      <td>00</td>\n",
       "      <td>00</td>\n",
       "      <td>8a</td>\n",
       "      <td>00</td>\n",
       "      <td>00</td>\n",
       "      <td>00</td>\n",
       "      <td>00</td>\n",
       "      <td>R</td>\n",
       "    </tr>\n",
       "  </tbody>\n",
       "</table>\n",
       "</div>"
      ],
      "text/plain": [
       "  CAN ID DATA0 DATA1 DATA2 DATA3 DATA4 DATA5 DATA6 DATA7 Flag\n",
       "0   018f    fe    5b    00    00    00    3c    00    00    R\n",
       "1   0260    19    21    22    30    08    8e    6d    3a    R\n",
       "2   02a0    64    00    9a    1d    97    02    bd    00    R\n",
       "3   0329    40    bb    7f    14    11    20    00    14    R\n",
       "4   0545    d8    00    00    8a    00    00    00    00    R"
      ]
     },
     "execution_count": 16,
     "metadata": {},
     "output_type": "execute_result"
    }
   ],
   "source": [
    "# Drop unnecessary columns\n",
    "df_drop_dlc = df_4.drop([\"DLC\"], axis=1).copy()\n",
    "df_drop_dlc.head()"
   ]
  },
  {
   "cell_type": "code",
   "execution_count": 17,
   "id": "ae171de1",
   "metadata": {
    "execution": {
     "iopub.execute_input": "2025-02-26T20:47:28.382286Z",
     "iopub.status.busy": "2025-02-26T20:47:28.382000Z",
     "iopub.status.idle": "2025-02-26T20:47:28.387644Z",
     "shell.execute_reply": "2025-02-26T20:47:28.386739Z"
    },
    "papermill": {
     "duration": 0.015741,
     "end_time": "2025-02-26T20:47:28.389160",
     "exception": false,
     "start_time": "2025-02-26T20:47:28.373419",
     "status": "completed"
    },
    "tags": []
   },
   "outputs": [
    {
     "data": {
      "text/plain": [
       "(CAN ID    object\n",
       " DATA0     object\n",
       " DATA1     object\n",
       " DATA2     object\n",
       " DATA3     object\n",
       " DATA4     object\n",
       " DATA5     object\n",
       " DATA6     object\n",
       " DATA7     object\n",
       " Flag      object\n",
       " dtype: object,\n",
       " (3665770, 10))"
      ]
     },
     "execution_count": 17,
     "metadata": {},
     "output_type": "execute_result"
    }
   ],
   "source": [
    "df_drop_dlc.dtypes, df_drop_dlc.shape"
   ]
  },
  {
   "cell_type": "code",
   "execution_count": 18,
   "id": "942b82db",
   "metadata": {
    "execution": {
     "iopub.execute_input": "2025-02-26T20:47:28.406992Z",
     "iopub.status.busy": "2025-02-26T20:47:28.406763Z",
     "iopub.status.idle": "2025-02-26T20:47:28.762099Z",
     "shell.execute_reply": "2025-02-26T20:47:28.761069Z"
    },
    "papermill": {
     "duration": 0.365527,
     "end_time": "2025-02-26T20:47:28.763822",
     "exception": false,
     "start_time": "2025-02-26T20:47:28.398295",
     "status": "completed"
    },
    "tags": []
   },
   "outputs": [
    {
     "data": {
      "text/plain": [
       "(     CAN ID DATA0 DATA1 DATA2 DATA3 DATA4 DATA5 DATA6 DATA7 Flag\n",
       " 1475   0000    00    00    00    00    00    00    00    00    T\n",
       " 1477   0000    00    00    00    00    00    00    00    00    T\n",
       " 1479   0000    00    00    00    00    00    00    00    00    T\n",
       " 1481   0000    00    00    00    00    00    00    00    00    T\n",
       " 1483   0000    00    00    00    00    00    00    00    00    T,\n",
       " (587521, 10))"
      ]
     },
     "execution_count": 18,
     "metadata": {},
     "output_type": "execute_result"
    }
   ],
   "source": [
    "df_can_id_0000 = df_drop_dlc[df_drop_dlc[\"CAN ID\"] == \"0000\"]\n",
    "df_can_id_0000.head(), df_can_id_0000.shape"
   ]
  },
  {
   "cell_type": "code",
   "execution_count": 19,
   "id": "debc52b6",
   "metadata": {
    "execution": {
     "iopub.execute_input": "2025-02-26T20:47:28.781628Z",
     "iopub.status.busy": "2025-02-26T20:47:28.781356Z",
     "iopub.status.idle": "2025-02-26T20:47:33.236768Z",
     "shell.execute_reply": "2025-02-26T20:47:33.235681Z"
    },
    "papermill": {
     "duration": 4.465947,
     "end_time": "2025-02-26T20:47:33.238377",
     "exception": false,
     "start_time": "2025-02-26T20:47:28.772430",
     "status": "completed"
    },
    "tags": []
   },
   "outputs": [
    {
     "data": {
      "text/html": [
       "<div>\n",
       "<style scoped>\n",
       "    .dataframe tbody tr th:only-of-type {\n",
       "        vertical-align: middle;\n",
       "    }\n",
       "\n",
       "    .dataframe tbody tr th {\n",
       "        vertical-align: top;\n",
       "    }\n",
       "\n",
       "    .dataframe thead th {\n",
       "        text-align: right;\n",
       "    }\n",
       "</style>\n",
       "<table border=\"1\" class=\"dataframe\">\n",
       "  <thead>\n",
       "    <tr style=\"text-align: right;\">\n",
       "      <th></th>\n",
       "      <th>CAN ID</th>\n",
       "      <th>DATA0</th>\n",
       "      <th>DATA1</th>\n",
       "      <th>DATA2</th>\n",
       "      <th>DATA3</th>\n",
       "      <th>DATA4</th>\n",
       "      <th>DATA5</th>\n",
       "      <th>DATA6</th>\n",
       "      <th>DATA7</th>\n",
       "      <th>Flag</th>\n",
       "    </tr>\n",
       "  </thead>\n",
       "  <tbody>\n",
       "    <tr>\n",
       "      <th>count</th>\n",
       "      <td>3665770</td>\n",
       "      <td>3665770</td>\n",
       "      <td>3665770</td>\n",
       "      <td>3665770</td>\n",
       "      <td>3665770</td>\n",
       "      <td>3665770</td>\n",
       "      <td>3665770</td>\n",
       "      <td>3665770</td>\n",
       "      <td>3665770</td>\n",
       "      <td>3665770</td>\n",
       "    </tr>\n",
       "    <tr>\n",
       "      <th>unique</th>\n",
       "      <td>27</td>\n",
       "      <td>108</td>\n",
       "      <td>71</td>\n",
       "      <td>75</td>\n",
       "      <td>26</td>\n",
       "      <td>190</td>\n",
       "      <td>256</td>\n",
       "      <td>75</td>\n",
       "      <td>256</td>\n",
       "      <td>2</td>\n",
       "    </tr>\n",
       "    <tr>\n",
       "      <th>top</th>\n",
       "      <td>0000</td>\n",
       "      <td>00</td>\n",
       "      <td>00</td>\n",
       "      <td>00</td>\n",
       "      <td>00</td>\n",
       "      <td>00</td>\n",
       "      <td>00</td>\n",
       "      <td>00</td>\n",
       "      <td>00</td>\n",
       "      <td>R</td>\n",
       "    </tr>\n",
       "    <tr>\n",
       "      <th>freq</th>\n",
       "      <td>587521</td>\n",
       "      <td>1623283</td>\n",
       "      <td>1850549</td>\n",
       "      <td>2391587</td>\n",
       "      <td>1989884</td>\n",
       "      <td>1973752</td>\n",
       "      <td>1595567</td>\n",
       "      <td>2266679</td>\n",
       "      <td>2171246</td>\n",
       "      <td>3078249</td>\n",
       "    </tr>\n",
       "  </tbody>\n",
       "</table>\n",
       "</div>"
      ],
      "text/plain": [
       "         CAN ID    DATA0    DATA1    DATA2    DATA3    DATA4    DATA5  \\\n",
       "count   3665770  3665770  3665770  3665770  3665770  3665770  3665770   \n",
       "unique       27      108       71       75       26      190      256   \n",
       "top        0000       00       00       00       00       00       00   \n",
       "freq     587521  1623283  1850549  2391587  1989884  1973752  1595567   \n",
       "\n",
       "          DATA6    DATA7     Flag  \n",
       "count   3665770  3665770  3665770  \n",
       "unique       75      256        2  \n",
       "top          00       00        R  \n",
       "freq    2266679  2171246  3078249  "
      ]
     },
     "execution_count": 19,
     "metadata": {},
     "output_type": "execute_result"
    }
   ],
   "source": [
    "df_6 = df_drop_dlc.copy()\n",
    "df_6.describe()"
   ]
  },
  {
   "cell_type": "code",
   "execution_count": 20,
   "id": "0287faad",
   "metadata": {
    "execution": {
     "iopub.execute_input": "2025-02-26T20:47:33.258038Z",
     "iopub.status.busy": "2025-02-26T20:47:33.257755Z",
     "iopub.status.idle": "2025-02-26T20:47:46.443966Z",
     "shell.execute_reply": "2025-02-26T20:47:46.442947Z"
    },
    "papermill": {
     "duration": 13.197122,
     "end_time": "2025-02-26T20:47:46.445536",
     "exception": false,
     "start_time": "2025-02-26T20:47:33.248414",
     "status": "completed"
    },
    "tags": []
   },
   "outputs": [
    {
     "name": "stdout",
     "output_type": "stream",
     "text": [
      "Rows with non-hex values in DATA columns:\n",
      "No non-hex values found\n"
     ]
    }
   ],
   "source": [
    "data_columns = ['DATA0', 'DATA1', 'DATA2', 'DATA3', 'DATA4', 'DATA5', 'DATA6', 'DATA7']\n",
    "\n",
    "# Create regex pattern for valid hex\n",
    "hex_pattern = r'^[0-9A-Fa-f]{2}$'\n",
    "\n",
    "# Check for non-hex values\n",
    "mask = df_6[data_columns].apply(lambda col: ~col.str.match(hex_pattern, na=False))\n",
    "\n",
    "# Get rows with any invalid entries\n",
    "invalid_rows = df_6[mask.any(axis=1)]\n",
    "\n",
    "print(\"Rows with non-hex values in DATA columns:\")\n",
    "print(invalid_rows if not invalid_rows.empty else \"No non-hex values found\")"
   ]
  },
  {
   "cell_type": "code",
   "execution_count": 21,
   "id": "2dc951c1",
   "metadata": {
    "execution": {
     "iopub.execute_input": "2025-02-26T20:47:46.463643Z",
     "iopub.status.busy": "2025-02-26T20:47:46.463341Z",
     "iopub.status.idle": "2025-02-26T20:48:05.728815Z",
     "shell.execute_reply": "2025-02-26T20:48:05.727817Z"
    },
    "papermill": {
     "duration": 19.276006,
     "end_time": "2025-02-26T20:48:05.730422",
     "exception": false,
     "start_time": "2025-02-26T20:47:46.454416",
     "status": "completed"
    },
    "tags": []
   },
   "outputs": [
    {
     "data": {
      "text/html": [
       "<div>\n",
       "<style scoped>\n",
       "    .dataframe tbody tr th:only-of-type {\n",
       "        vertical-align: middle;\n",
       "    }\n",
       "\n",
       "    .dataframe tbody tr th {\n",
       "        vertical-align: top;\n",
       "    }\n",
       "\n",
       "    .dataframe thead th {\n",
       "        text-align: right;\n",
       "    }\n",
       "</style>\n",
       "<table border=\"1\" class=\"dataframe\">\n",
       "  <thead>\n",
       "    <tr style=\"text-align: right;\">\n",
       "      <th></th>\n",
       "      <th>CAN ID</th>\n",
       "      <th>DATA0</th>\n",
       "      <th>DATA1</th>\n",
       "      <th>DATA2</th>\n",
       "      <th>DATA3</th>\n",
       "      <th>DATA4</th>\n",
       "      <th>DATA5</th>\n",
       "      <th>DATA6</th>\n",
       "      <th>DATA7</th>\n",
       "      <th>Flag</th>\n",
       "    </tr>\n",
       "  </thead>\n",
       "  <tbody>\n",
       "    <tr>\n",
       "      <th>0</th>\n",
       "      <td>399</td>\n",
       "      <td>254</td>\n",
       "      <td>91</td>\n",
       "      <td>0</td>\n",
       "      <td>0</td>\n",
       "      <td>0</td>\n",
       "      <td>60</td>\n",
       "      <td>0</td>\n",
       "      <td>0</td>\n",
       "      <td>R</td>\n",
       "    </tr>\n",
       "    <tr>\n",
       "      <th>1</th>\n",
       "      <td>608</td>\n",
       "      <td>25</td>\n",
       "      <td>33</td>\n",
       "      <td>34</td>\n",
       "      <td>48</td>\n",
       "      <td>8</td>\n",
       "      <td>142</td>\n",
       "      <td>109</td>\n",
       "      <td>58</td>\n",
       "      <td>R</td>\n",
       "    </tr>\n",
       "    <tr>\n",
       "      <th>2</th>\n",
       "      <td>672</td>\n",
       "      <td>100</td>\n",
       "      <td>0</td>\n",
       "      <td>154</td>\n",
       "      <td>29</td>\n",
       "      <td>151</td>\n",
       "      <td>2</td>\n",
       "      <td>189</td>\n",
       "      <td>0</td>\n",
       "      <td>R</td>\n",
       "    </tr>\n",
       "    <tr>\n",
       "      <th>3</th>\n",
       "      <td>809</td>\n",
       "      <td>64</td>\n",
       "      <td>187</td>\n",
       "      <td>127</td>\n",
       "      <td>20</td>\n",
       "      <td>17</td>\n",
       "      <td>32</td>\n",
       "      <td>0</td>\n",
       "      <td>20</td>\n",
       "      <td>R</td>\n",
       "    </tr>\n",
       "    <tr>\n",
       "      <th>4</th>\n",
       "      <td>1349</td>\n",
       "      <td>216</td>\n",
       "      <td>0</td>\n",
       "      <td>0</td>\n",
       "      <td>138</td>\n",
       "      <td>0</td>\n",
       "      <td>0</td>\n",
       "      <td>0</td>\n",
       "      <td>0</td>\n",
       "      <td>R</td>\n",
       "    </tr>\n",
       "  </tbody>\n",
       "</table>\n",
       "</div>"
      ],
      "text/plain": [
       "   CAN ID  DATA0  DATA1  DATA2  DATA3  DATA4  DATA5  DATA6  DATA7 Flag\n",
       "0     399    254     91      0      0      0     60      0      0    R\n",
       "1     608     25     33     34     48      8    142    109     58    R\n",
       "2     672    100      0    154     29    151      2    189      0    R\n",
       "3     809     64    187    127     20     17     32      0     20    R\n",
       "4    1349    216      0      0    138      0      0      0      0    R"
      ]
     },
     "execution_count": 21,
     "metadata": {},
     "output_type": "execute_result"
    }
   ],
   "source": [
    "df_7 = df_6.copy()\n",
    "# Function to convert hex to decimal\n",
    "def hex_to_int(hex_str: str) -> int:\n",
    "    try:\n",
    "        return int(str(hex_str).strip(), 16)  # Convert hex to int\n",
    "    except ValueError:\n",
    "        return np.nan \n",
    "\n",
    "# Convert all DATA columns\n",
    "for col in df_7.columns[:-1]:  # Exclude 'Flag' column\n",
    "    df_7[col] = df_7[col].apply(hex_to_int)\n",
    "\n",
    "df_7.head()"
   ]
  },
  {
   "cell_type": "code",
   "execution_count": 22,
   "id": "38a89c7b",
   "metadata": {
    "execution": {
     "iopub.execute_input": "2025-02-26T20:48:05.749454Z",
     "iopub.status.busy": "2025-02-26T20:48:05.749217Z",
     "iopub.status.idle": "2025-02-26T20:48:06.079924Z",
     "shell.execute_reply": "2025-02-26T20:48:06.079140Z"
    },
    "papermill": {
     "duration": 0.341686,
     "end_time": "2025-02-26T20:48:06.081553",
     "exception": false,
     "start_time": "2025-02-26T20:48:05.739867",
     "status": "completed"
    },
    "tags": []
   },
   "outputs": [],
   "source": [
    "df_8 = df_7.copy()"
   ]
  },
  {
   "cell_type": "code",
   "execution_count": 23,
   "id": "91fbc88c",
   "metadata": {
    "execution": {
     "iopub.execute_input": "2025-02-26T20:48:06.100471Z",
     "iopub.status.busy": "2025-02-26T20:48:06.100169Z",
     "iopub.status.idle": "2025-02-26T20:48:06.243346Z",
     "shell.execute_reply": "2025-02-26T20:48:06.242295Z"
    },
    "papermill": {
     "duration": 0.154055,
     "end_time": "2025-02-26T20:48:06.245166",
     "exception": false,
     "start_time": "2025-02-26T20:48:06.091111",
     "status": "completed"
    },
    "tags": []
   },
   "outputs": [
    {
     "data": {
      "text/html": [
       "<div>\n",
       "<style scoped>\n",
       "    .dataframe tbody tr th:only-of-type {\n",
       "        vertical-align: middle;\n",
       "    }\n",
       "\n",
       "    .dataframe tbody tr th {\n",
       "        vertical-align: top;\n",
       "    }\n",
       "\n",
       "    .dataframe thead th {\n",
       "        text-align: right;\n",
       "    }\n",
       "</style>\n",
       "<table border=\"1\" class=\"dataframe\">\n",
       "  <thead>\n",
       "    <tr style=\"text-align: right;\">\n",
       "      <th></th>\n",
       "      <th>CAN ID</th>\n",
       "      <th>DATA0</th>\n",
       "      <th>DATA1</th>\n",
       "      <th>DATA2</th>\n",
       "      <th>DATA3</th>\n",
       "      <th>DATA4</th>\n",
       "      <th>DATA5</th>\n",
       "      <th>DATA6</th>\n",
       "      <th>DATA7</th>\n",
       "      <th>Flag</th>\n",
       "    </tr>\n",
       "  </thead>\n",
       "  <tbody>\n",
       "    <tr>\n",
       "      <th>0</th>\n",
       "      <td>399</td>\n",
       "      <td>254</td>\n",
       "      <td>91</td>\n",
       "      <td>0</td>\n",
       "      <td>0</td>\n",
       "      <td>0</td>\n",
       "      <td>60</td>\n",
       "      <td>0</td>\n",
       "      <td>0</td>\n",
       "      <td>0</td>\n",
       "    </tr>\n",
       "    <tr>\n",
       "      <th>1</th>\n",
       "      <td>608</td>\n",
       "      <td>25</td>\n",
       "      <td>33</td>\n",
       "      <td>34</td>\n",
       "      <td>48</td>\n",
       "      <td>8</td>\n",
       "      <td>142</td>\n",
       "      <td>109</td>\n",
       "      <td>58</td>\n",
       "      <td>0</td>\n",
       "    </tr>\n",
       "    <tr>\n",
       "      <th>2</th>\n",
       "      <td>672</td>\n",
       "      <td>100</td>\n",
       "      <td>0</td>\n",
       "      <td>154</td>\n",
       "      <td>29</td>\n",
       "      <td>151</td>\n",
       "      <td>2</td>\n",
       "      <td>189</td>\n",
       "      <td>0</td>\n",
       "      <td>0</td>\n",
       "    </tr>\n",
       "    <tr>\n",
       "      <th>3</th>\n",
       "      <td>809</td>\n",
       "      <td>64</td>\n",
       "      <td>187</td>\n",
       "      <td>127</td>\n",
       "      <td>20</td>\n",
       "      <td>17</td>\n",
       "      <td>32</td>\n",
       "      <td>0</td>\n",
       "      <td>20</td>\n",
       "      <td>0</td>\n",
       "    </tr>\n",
       "    <tr>\n",
       "      <th>4</th>\n",
       "      <td>1349</td>\n",
       "      <td>216</td>\n",
       "      <td>0</td>\n",
       "      <td>0</td>\n",
       "      <td>138</td>\n",
       "      <td>0</td>\n",
       "      <td>0</td>\n",
       "      <td>0</td>\n",
       "      <td>0</td>\n",
       "      <td>0</td>\n",
       "    </tr>\n",
       "  </tbody>\n",
       "</table>\n",
       "</div>"
      ],
      "text/plain": [
       "   CAN ID  DATA0  DATA1  DATA2  DATA3  DATA4  DATA5  DATA6  DATA7  Flag\n",
       "0     399    254     91      0      0      0     60      0      0     0\n",
       "1     608     25     33     34     48      8    142    109     58     0\n",
       "2     672    100      0    154     29    151      2    189      0     0\n",
       "3     809     64    187    127     20     17     32      0     20     0\n",
       "4    1349    216      0      0    138      0      0      0      0     0"
      ]
     },
     "execution_count": 23,
     "metadata": {},
     "output_type": "execute_result"
    }
   ],
   "source": [
    "df_8[\"Flag\"] = df_8[\"Flag\"].map({\"R\": 0, \"T\": 1})\n",
    "df_8.head()"
   ]
  },
  {
   "cell_type": "code",
   "execution_count": 24,
   "id": "75c7ff35",
   "metadata": {
    "execution": {
     "iopub.execute_input": "2025-02-26T20:48:06.265201Z",
     "iopub.status.busy": "2025-02-26T20:48:06.264923Z",
     "iopub.status.idle": "2025-02-26T20:48:06.289243Z",
     "shell.execute_reply": "2025-02-26T20:48:06.288255Z"
    },
    "papermill": {
     "duration": 0.03586,
     "end_time": "2025-02-26T20:48:06.290910",
     "exception": false,
     "start_time": "2025-02-26T20:48:06.255050",
     "status": "completed"
    },
    "tags": []
   },
   "outputs": [
    {
     "data": {
      "text/plain": [
       "array([0, 1])"
      ]
     },
     "execution_count": 24,
     "metadata": {},
     "output_type": "execute_result"
    }
   ],
   "source": [
    "df_8[\"Flag\"].unique()"
   ]
  },
  {
   "cell_type": "code",
   "execution_count": 25,
   "id": "0ed63e45",
   "metadata": {
    "execution": {
     "iopub.execute_input": "2025-02-26T20:48:06.311047Z",
     "iopub.status.busy": "2025-02-26T20:48:06.310784Z",
     "iopub.status.idle": "2025-02-26T20:48:06.358234Z",
     "shell.execute_reply": "2025-02-26T20:48:06.357347Z"
    },
    "papermill": {
     "duration": 0.058775,
     "end_time": "2025-02-26T20:48:06.359747",
     "exception": false,
     "start_time": "2025-02-26T20:48:06.300972",
     "status": "completed"
    },
    "tags": []
   },
   "outputs": [
    {
     "data": {
      "text/plain": [
       "CAN ID    0\n",
       "DATA0     0\n",
       "DATA1     0\n",
       "DATA2     0\n",
       "DATA3     0\n",
       "DATA4     0\n",
       "DATA5     0\n",
       "DATA6     0\n",
       "DATA7     0\n",
       "Flag      0\n",
       "dtype: int64"
      ]
     },
     "execution_count": 25,
     "metadata": {},
     "output_type": "execute_result"
    }
   ],
   "source": [
    "df_8.isna().sum()"
   ]
  },
  {
   "cell_type": "code",
   "execution_count": 26,
   "id": "c175d72e",
   "metadata": {
    "execution": {
     "iopub.execute_input": "2025-02-26T20:48:06.378828Z",
     "iopub.status.busy": "2025-02-26T20:48:06.378521Z",
     "iopub.status.idle": "2025-02-26T20:48:06.455064Z",
     "shell.execute_reply": "2025-02-26T20:48:06.453785Z"
    },
    "papermill": {
     "duration": 0.08779,
     "end_time": "2025-02-26T20:48:06.456941",
     "exception": false,
     "start_time": "2025-02-26T20:48:06.369151",
     "status": "completed"
    },
    "tags": []
   },
   "outputs": [
    {
     "name": "stdout",
     "output_type": "stream",
     "text": [
      "<class 'pandas.core.frame.DataFrame'>\n",
      "RangeIndex: 3665770 entries, 0 to 3665769\n",
      "Data columns (total 10 columns):\n",
      " #   Column  Dtype\n",
      "---  ------  -----\n",
      " 0   CAN ID  int64\n",
      " 1   DATA0   int64\n",
      " 2   DATA1   int64\n",
      " 3   DATA2   int64\n",
      " 4   DATA3   int64\n",
      " 5   DATA4   int64\n",
      " 6   DATA5   int64\n",
      " 7   DATA6   int64\n",
      " 8   DATA7   int64\n",
      " 9   Flag    int64\n",
      "dtypes: int64(10)\n",
      "memory usage: 279.7 MB\n"
     ]
    }
   ],
   "source": [
    "df_8.info()"
   ]
  },
  {
   "cell_type": "code",
   "execution_count": 27,
   "id": "5d73ec4b",
   "metadata": {
    "execution": {
     "iopub.execute_input": "2025-02-26T20:48:06.479283Z",
     "iopub.status.busy": "2025-02-26T20:48:06.479019Z",
     "iopub.status.idle": "2025-02-26T20:48:07.697764Z",
     "shell.execute_reply": "2025-02-26T20:48:07.696807Z"
    },
    "papermill": {
     "duration": 1.231185,
     "end_time": "2025-02-26T20:48:07.699266",
     "exception": false,
     "start_time": "2025-02-26T20:48:06.468081",
     "status": "completed"
    },
    "tags": []
   },
   "outputs": [
    {
     "data": {
      "text/html": [
       "<div>\n",
       "<style scoped>\n",
       "    .dataframe tbody tr th:only-of-type {\n",
       "        vertical-align: middle;\n",
       "    }\n",
       "\n",
       "    .dataframe tbody tr th {\n",
       "        vertical-align: top;\n",
       "    }\n",
       "\n",
       "    .dataframe thead th {\n",
       "        text-align: right;\n",
       "    }\n",
       "</style>\n",
       "<table border=\"1\" class=\"dataframe\">\n",
       "  <thead>\n",
       "    <tr style=\"text-align: right;\">\n",
       "      <th></th>\n",
       "      <th>CAN ID</th>\n",
       "      <th>DATA0</th>\n",
       "      <th>DATA1</th>\n",
       "      <th>DATA2</th>\n",
       "      <th>DATA3</th>\n",
       "      <th>DATA4</th>\n",
       "      <th>DATA5</th>\n",
       "      <th>DATA6</th>\n",
       "      <th>DATA7</th>\n",
       "      <th>Flag</th>\n",
       "    </tr>\n",
       "  </thead>\n",
       "  <tbody>\n",
       "    <tr>\n",
       "      <th>count</th>\n",
       "      <td>3.665770e+06</td>\n",
       "      <td>3.665770e+06</td>\n",
       "      <td>3.665770e+06</td>\n",
       "      <td>3.665770e+06</td>\n",
       "      <td>3.665770e+06</td>\n",
       "      <td>3.665770e+06</td>\n",
       "      <td>3.665770e+06</td>\n",
       "      <td>3.665770e+06</td>\n",
       "      <td>3.665770e+06</td>\n",
       "      <td>3.665770e+06</td>\n",
       "    </tr>\n",
       "    <tr>\n",
       "      <th>mean</th>\n",
       "      <td>5.898021e+02</td>\n",
       "      <td>5.053060e+01</td>\n",
       "      <td>3.742432e+01</td>\n",
       "      <td>3.037550e+01</td>\n",
       "      <td>5.403188e+01</td>\n",
       "      <td>3.888667e+01</td>\n",
       "      <td>5.620259e+01</td>\n",
       "      <td>2.178434e+01</td>\n",
       "      <td>4.054242e+01</td>\n",
       "      <td>1.602722e-01</td>\n",
       "    </tr>\n",
       "    <tr>\n",
       "      <th>std</th>\n",
       "      <td>4.309473e+02</td>\n",
       "      <td>8.810461e+01</td>\n",
       "      <td>5.212957e+01</td>\n",
       "      <td>5.307059e+01</td>\n",
       "      <td>8.843757e+01</td>\n",
       "      <td>6.810672e+01</td>\n",
       "      <td>7.704030e+01</td>\n",
       "      <td>5.247999e+01</td>\n",
       "      <td>6.740078e+01</td>\n",
       "      <td>3.668584e-01</td>\n",
       "    </tr>\n",
       "    <tr>\n",
       "      <th>min</th>\n",
       "      <td>0.000000e+00</td>\n",
       "      <td>0.000000e+00</td>\n",
       "      <td>0.000000e+00</td>\n",
       "      <td>0.000000e+00</td>\n",
       "      <td>0.000000e+00</td>\n",
       "      <td>0.000000e+00</td>\n",
       "      <td>0.000000e+00</td>\n",
       "      <td>0.000000e+00</td>\n",
       "      <td>0.000000e+00</td>\n",
       "      <td>0.000000e+00</td>\n",
       "    </tr>\n",
       "    <tr>\n",
       "      <th>25%</th>\n",
       "      <td>3.040000e+02</td>\n",
       "      <td>0.000000e+00</td>\n",
       "      <td>0.000000e+00</td>\n",
       "      <td>0.000000e+00</td>\n",
       "      <td>0.000000e+00</td>\n",
       "      <td>0.000000e+00</td>\n",
       "      <td>0.000000e+00</td>\n",
       "      <td>0.000000e+00</td>\n",
       "      <td>0.000000e+00</td>\n",
       "      <td>0.000000e+00</td>\n",
       "    </tr>\n",
       "    <tr>\n",
       "      <th>50%</th>\n",
       "      <td>6.080000e+02</td>\n",
       "      <td>5.000000e+00</td>\n",
       "      <td>0.000000e+00</td>\n",
       "      <td>0.000000e+00</td>\n",
       "      <td>0.000000e+00</td>\n",
       "      <td>0.000000e+00</td>\n",
       "      <td>5.000000e+00</td>\n",
       "      <td>0.000000e+00</td>\n",
       "      <td>0.000000e+00</td>\n",
       "      <td>0.000000e+00</td>\n",
       "    </tr>\n",
       "    <tr>\n",
       "      <th>75%</th>\n",
       "      <td>8.800000e+02</td>\n",
       "      <td>3.600000e+01</td>\n",
       "      <td>3.900000e+01</td>\n",
       "      <td>3.500000e+01</td>\n",
       "      <td>4.800000e+01</td>\n",
       "      <td>3.500000e+01</td>\n",
       "      <td>1.270000e+02</td>\n",
       "      <td>9.000000e+00</td>\n",
       "      <td>5.700000e+01</td>\n",
       "      <td>0.000000e+00</td>\n",
       "    </tr>\n",
       "    <tr>\n",
       "      <th>max</th>\n",
       "      <td>1.680000e+03</td>\n",
       "      <td>2.550000e+02</td>\n",
       "      <td>1.920000e+02</td>\n",
       "      <td>2.520000e+02</td>\n",
       "      <td>2.550000e+02</td>\n",
       "      <td>2.550000e+02</td>\n",
       "      <td>2.550000e+02</td>\n",
       "      <td>2.090000e+02</td>\n",
       "      <td>2.550000e+02</td>\n",
       "      <td>1.000000e+00</td>\n",
       "    </tr>\n",
       "  </tbody>\n",
       "</table>\n",
       "</div>"
      ],
      "text/plain": [
       "             CAN ID         DATA0         DATA1         DATA2         DATA3  \\\n",
       "count  3.665770e+06  3.665770e+06  3.665770e+06  3.665770e+06  3.665770e+06   \n",
       "mean   5.898021e+02  5.053060e+01  3.742432e+01  3.037550e+01  5.403188e+01   \n",
       "std    4.309473e+02  8.810461e+01  5.212957e+01  5.307059e+01  8.843757e+01   \n",
       "min    0.000000e+00  0.000000e+00  0.000000e+00  0.000000e+00  0.000000e+00   \n",
       "25%    3.040000e+02  0.000000e+00  0.000000e+00  0.000000e+00  0.000000e+00   \n",
       "50%    6.080000e+02  5.000000e+00  0.000000e+00  0.000000e+00  0.000000e+00   \n",
       "75%    8.800000e+02  3.600000e+01  3.900000e+01  3.500000e+01  4.800000e+01   \n",
       "max    1.680000e+03  2.550000e+02  1.920000e+02  2.520000e+02  2.550000e+02   \n",
       "\n",
       "              DATA4         DATA5         DATA6         DATA7          Flag  \n",
       "count  3.665770e+06  3.665770e+06  3.665770e+06  3.665770e+06  3.665770e+06  \n",
       "mean   3.888667e+01  5.620259e+01  2.178434e+01  4.054242e+01  1.602722e-01  \n",
       "std    6.810672e+01  7.704030e+01  5.247999e+01  6.740078e+01  3.668584e-01  \n",
       "min    0.000000e+00  0.000000e+00  0.000000e+00  0.000000e+00  0.000000e+00  \n",
       "25%    0.000000e+00  0.000000e+00  0.000000e+00  0.000000e+00  0.000000e+00  \n",
       "50%    0.000000e+00  5.000000e+00  0.000000e+00  0.000000e+00  0.000000e+00  \n",
       "75%    3.500000e+01  1.270000e+02  9.000000e+00  5.700000e+01  0.000000e+00  \n",
       "max    2.550000e+02  2.550000e+02  2.090000e+02  2.550000e+02  1.000000e+00  "
      ]
     },
     "execution_count": 27,
     "metadata": {},
     "output_type": "execute_result"
    }
   ],
   "source": [
    "df_8.describe()"
   ]
  },
  {
   "cell_type": "code",
   "execution_count": 28,
   "id": "1c78734b",
   "metadata": {
    "execution": {
     "iopub.execute_input": "2025-02-26T20:48:07.719267Z",
     "iopub.status.busy": "2025-02-26T20:48:07.718981Z",
     "iopub.status.idle": "2025-02-26T20:48:15.619262Z",
     "shell.execute_reply": "2025-02-26T20:48:15.618000Z"
    },
    "papermill": {
     "duration": 7.911947,
     "end_time": "2025-02-26T20:48:15.620895",
     "exception": false,
     "start_time": "2025-02-26T20:48:07.708948",
     "status": "completed"
    },
    "tags": []
   },
   "outputs": [
    {
     "name": "stdout",
     "output_type": "stream",
     "text": [
      "Data saved successfully as 'cleaned_data.csv'.\n"
     ]
    }
   ],
   "source": [
    "df_8.to_csv('/kaggle/working/cleaned_data.csv', index=False)\n",
    "\n",
    "print(\"Data saved successfully as 'cleaned_data.csv'.\")"
   ]
  },
  {
   "cell_type": "code",
   "execution_count": 29,
   "id": "9a85cba6",
   "metadata": {
    "execution": {
     "iopub.execute_input": "2025-02-26T20:48:15.641833Z",
     "iopub.status.busy": "2025-02-26T20:48:15.641498Z",
     "iopub.status.idle": "2025-02-26T20:48:16.954225Z",
     "shell.execute_reply": "2025-02-26T20:48:16.953242Z"
    },
    "papermill": {
     "duration": 1.324718,
     "end_time": "2025-02-26T20:48:16.955726",
     "exception": false,
     "start_time": "2025-02-26T20:48:15.631008",
     "status": "completed"
    },
    "tags": []
   },
   "outputs": [
    {
     "data": {
      "text/html": [
       "<div>\n",
       "<style scoped>\n",
       "    .dataframe tbody tr th:only-of-type {\n",
       "        vertical-align: middle;\n",
       "    }\n",
       "\n",
       "    .dataframe tbody tr th {\n",
       "        vertical-align: top;\n",
       "    }\n",
       "\n",
       "    .dataframe thead th {\n",
       "        text-align: right;\n",
       "    }\n",
       "</style>\n",
       "<table border=\"1\" class=\"dataframe\">\n",
       "  <thead>\n",
       "    <tr style=\"text-align: right;\">\n",
       "      <th></th>\n",
       "      <th>CAN ID</th>\n",
       "      <th>DATA0</th>\n",
       "      <th>DATA1</th>\n",
       "      <th>DATA2</th>\n",
       "      <th>DATA3</th>\n",
       "      <th>DATA4</th>\n",
       "      <th>DATA5</th>\n",
       "      <th>DATA6</th>\n",
       "      <th>DATA7</th>\n",
       "      <th>Flag</th>\n",
       "    </tr>\n",
       "  </thead>\n",
       "  <tbody>\n",
       "    <tr>\n",
       "      <th>CAN ID</th>\n",
       "      <td>1.000000</td>\n",
       "      <td>0.280295</td>\n",
       "      <td>0.025332</td>\n",
       "      <td>0.285694</td>\n",
       "      <td>0.212122</td>\n",
       "      <td>0.339657</td>\n",
       "      <td>0.103898</td>\n",
       "      <td>0.152062</td>\n",
       "      <td>-0.106815</td>\n",
       "      <td>-0.597919</td>\n",
       "    </tr>\n",
       "    <tr>\n",
       "      <th>DATA0</th>\n",
       "      <td>0.280295</td>\n",
       "      <td>1.000000</td>\n",
       "      <td>0.265148</td>\n",
       "      <td>-0.084861</td>\n",
       "      <td>-0.118518</td>\n",
       "      <td>0.302947</td>\n",
       "      <td>0.162191</td>\n",
       "      <td>-0.083844</td>\n",
       "      <td>-0.158038</td>\n",
       "      <td>-0.250562</td>\n",
       "    </tr>\n",
       "    <tr>\n",
       "      <th>DATA1</th>\n",
       "      <td>0.025332</td>\n",
       "      <td>0.265148</td>\n",
       "      <td>1.000000</td>\n",
       "      <td>0.248555</td>\n",
       "      <td>0.249595</td>\n",
       "      <td>0.001412</td>\n",
       "      <td>0.275357</td>\n",
       "      <td>-0.195221</td>\n",
       "      <td>0.195102</td>\n",
       "      <td>-0.313639</td>\n",
       "    </tr>\n",
       "    <tr>\n",
       "      <th>DATA2</th>\n",
       "      <td>0.285694</td>\n",
       "      <td>-0.084861</td>\n",
       "      <td>0.248555</td>\n",
       "      <td>1.000000</td>\n",
       "      <td>0.149292</td>\n",
       "      <td>0.367018</td>\n",
       "      <td>-0.039111</td>\n",
       "      <td>0.308908</td>\n",
       "      <td>0.133593</td>\n",
       "      <td>-0.250051</td>\n",
       "    </tr>\n",
       "    <tr>\n",
       "      <th>DATA3</th>\n",
       "      <td>0.212122</td>\n",
       "      <td>-0.118518</td>\n",
       "      <td>0.249595</td>\n",
       "      <td>0.149292</td>\n",
       "      <td>1.000000</td>\n",
       "      <td>0.144452</td>\n",
       "      <td>0.615395</td>\n",
       "      <td>0.020012</td>\n",
       "      <td>0.038851</td>\n",
       "      <td>-0.266915</td>\n",
       "    </tr>\n",
       "    <tr>\n",
       "      <th>DATA4</th>\n",
       "      <td>0.339657</td>\n",
       "      <td>0.302947</td>\n",
       "      <td>0.001412</td>\n",
       "      <td>0.367018</td>\n",
       "      <td>0.144452</td>\n",
       "      <td>1.000000</td>\n",
       "      <td>0.351487</td>\n",
       "      <td>0.192900</td>\n",
       "      <td>0.019239</td>\n",
       "      <td>-0.249443</td>\n",
       "    </tr>\n",
       "    <tr>\n",
       "      <th>DATA5</th>\n",
       "      <td>0.103898</td>\n",
       "      <td>0.162191</td>\n",
       "      <td>0.275357</td>\n",
       "      <td>-0.039111</td>\n",
       "      <td>0.615395</td>\n",
       "      <td>0.351487</td>\n",
       "      <td>1.000000</td>\n",
       "      <td>0.066449</td>\n",
       "      <td>-0.032675</td>\n",
       "      <td>-0.318712</td>\n",
       "    </tr>\n",
       "    <tr>\n",
       "      <th>DATA6</th>\n",
       "      <td>0.152062</td>\n",
       "      <td>-0.083844</td>\n",
       "      <td>-0.195221</td>\n",
       "      <td>0.308908</td>\n",
       "      <td>0.020012</td>\n",
       "      <td>0.192900</td>\n",
       "      <td>0.066449</td>\n",
       "      <td>1.000000</td>\n",
       "      <td>-0.078964</td>\n",
       "      <td>-0.181347</td>\n",
       "    </tr>\n",
       "    <tr>\n",
       "      <th>DATA7</th>\n",
       "      <td>-0.106815</td>\n",
       "      <td>-0.158038</td>\n",
       "      <td>0.195102</td>\n",
       "      <td>0.133593</td>\n",
       "      <td>0.038851</td>\n",
       "      <td>0.019239</td>\n",
       "      <td>-0.032675</td>\n",
       "      <td>-0.078964</td>\n",
       "      <td>1.000000</td>\n",
       "      <td>-0.262787</td>\n",
       "    </tr>\n",
       "    <tr>\n",
       "      <th>Flag</th>\n",
       "      <td>-0.597919</td>\n",
       "      <td>-0.250562</td>\n",
       "      <td>-0.313639</td>\n",
       "      <td>-0.250051</td>\n",
       "      <td>-0.266915</td>\n",
       "      <td>-0.249443</td>\n",
       "      <td>-0.318712</td>\n",
       "      <td>-0.181347</td>\n",
       "      <td>-0.262787</td>\n",
       "      <td>1.000000</td>\n",
       "    </tr>\n",
       "  </tbody>\n",
       "</table>\n",
       "</div>"
      ],
      "text/plain": [
       "          CAN ID     DATA0     DATA1     DATA2     DATA3     DATA4     DATA5  \\\n",
       "CAN ID  1.000000  0.280295  0.025332  0.285694  0.212122  0.339657  0.103898   \n",
       "DATA0   0.280295  1.000000  0.265148 -0.084861 -0.118518  0.302947  0.162191   \n",
       "DATA1   0.025332  0.265148  1.000000  0.248555  0.249595  0.001412  0.275357   \n",
       "DATA2   0.285694 -0.084861  0.248555  1.000000  0.149292  0.367018 -0.039111   \n",
       "DATA3   0.212122 -0.118518  0.249595  0.149292  1.000000  0.144452  0.615395   \n",
       "DATA4   0.339657  0.302947  0.001412  0.367018  0.144452  1.000000  0.351487   \n",
       "DATA5   0.103898  0.162191  0.275357 -0.039111  0.615395  0.351487  1.000000   \n",
       "DATA6   0.152062 -0.083844 -0.195221  0.308908  0.020012  0.192900  0.066449   \n",
       "DATA7  -0.106815 -0.158038  0.195102  0.133593  0.038851  0.019239 -0.032675   \n",
       "Flag   -0.597919 -0.250562 -0.313639 -0.250051 -0.266915 -0.249443 -0.318712   \n",
       "\n",
       "           DATA6     DATA7      Flag  \n",
       "CAN ID  0.152062 -0.106815 -0.597919  \n",
       "DATA0  -0.083844 -0.158038 -0.250562  \n",
       "DATA1  -0.195221  0.195102 -0.313639  \n",
       "DATA2   0.308908  0.133593 -0.250051  \n",
       "DATA3   0.020012  0.038851 -0.266915  \n",
       "DATA4   0.192900  0.019239 -0.249443  \n",
       "DATA5   0.066449 -0.032675 -0.318712  \n",
       "DATA6   1.000000 -0.078964 -0.181347  \n",
       "DATA7  -0.078964  1.000000 -0.262787  \n",
       "Flag   -0.181347 -0.262787  1.000000  "
      ]
     },
     "execution_count": 29,
     "metadata": {},
     "output_type": "execute_result"
    }
   ],
   "source": [
    "# Exclude the 'Flag' column before calculating correlation\n",
    "correlation_matrix = df_8.corr()\n",
    "correlation_matrix"
   ]
  },
  {
   "cell_type": "code",
   "execution_count": 30,
   "id": "5db4409d",
   "metadata": {
    "execution": {
     "iopub.execute_input": "2025-02-26T20:48:16.977287Z",
     "iopub.status.busy": "2025-02-26T20:48:16.977001Z",
     "iopub.status.idle": "2025-02-26T20:48:17.694449Z",
     "shell.execute_reply": "2025-02-26T20:48:17.693448Z"
    },
    "papermill": {
     "duration": 0.729436,
     "end_time": "2025-02-26T20:48:17.695890",
     "exception": false,
     "start_time": "2025-02-26T20:48:16.966454",
     "status": "completed"
    },
    "tags": []
   },
   "outputs": [
    {
     "data": {
      "text/plain": [
       "<Axes: >"
      ]
     },
     "execution_count": 30,
     "metadata": {},
     "output_type": "execute_result"
    },
    {
     "data": {
      "image/png": "[encoded data removed]",
      "text/plain": [
       "<Figure size 800x600 with 2 Axes>"
      ]
     },
     "metadata": {},
     "output_type": "display_data"
    }
   ],
   "source": [
    "# Plot the correlation matrix as a heatmap\n",
    "plt.figure(figsize=(8, 6))\n",
    "sns.heatmap(correlation_matrix, annot=True, fmt='.2f', linewidths=0.5)"
   ]
  },
  {
   "cell_type": "code",
   "execution_count": 31,
   "id": "fe9e8bbc",
   "metadata": {
    "execution": {
     "iopub.execute_input": "2025-02-26T20:48:17.720977Z",
     "iopub.status.busy": "2025-02-26T20:48:17.720696Z",
     "iopub.status.idle": "2025-02-26T20:48:18.040802Z",
     "shell.execute_reply": "2025-02-26T20:48:18.039664Z"
    },
    "papermill": {
     "duration": 0.334086,
     "end_time": "2025-02-26T20:48:18.042734",
     "exception": false,
     "start_time": "2025-02-26T20:48:17.708648",
     "status": "completed"
    },
    "tags": []
   },
   "outputs": [],
   "source": [
    "df_9 = df_8.copy()"
   ]
  },
  {
   "cell_type": "code",
   "execution_count": 32,
   "id": "454e522b",
   "metadata": {
    "execution": {
     "iopub.execute_input": "2025-02-26T20:48:18.069726Z",
     "iopub.status.busy": "2025-02-26T20:48:18.069350Z",
     "iopub.status.idle": "2025-02-26T20:48:53.376295Z",
     "shell.execute_reply": "2025-02-26T20:48:53.375303Z"
    },
    "papermill": {
     "duration": 35.322092,
     "end_time": "2025-02-26T20:48:53.377795",
     "exception": false,
     "start_time": "2025-02-26T20:48:18.055703",
     "status": "completed"
    },
    "tags": []
   },
   "outputs": [
    {
     "name": "stdout",
     "output_type": "stream",
     "text": [
      "🚀 RAPIDS cuML available! Running on GPU\n",
      "🚀 Using GPU-Accelerated Random Forest (cuML)\n",
      "✅ Accuracy: 0.9861111111111112\n",
      "              precision    recall  f1-score   support\n",
      "\n",
      "         0.0       1.00      0.97      0.99    117504\n",
      "         1.0       0.97      1.00      0.99    117504\n",
      "\n",
      "    accuracy                           0.99    235008\n",
      "   macro avg       0.99      0.99      0.99    235008\n",
      "weighted avg       0.99      0.99      0.99    235008\n",
      "\n"
     ]
    },
    {
     "data": {
      "text/plain": [
       "['rf_model.joblib']"
      ]
     },
     "execution_count": 32,
     "metadata": {},
     "output_type": "execute_result"
    }
   ],
   "source": [
    "import os\n",
    "import pandas as pd\n",
    "import numpy as np\n",
    "\n",
    "# ✅ Detect GPU availability\n",
    "GPU_AVAILABLE = os.path.exists('/dev/nvidia0')\n",
    "\n",
    "try:\n",
    "    if GPU_AVAILABLE:\n",
    "        import cudf\n",
    "        import cupy as cp\n",
    "        from cuml.ensemble import RandomForestClassifier as cuRF\n",
    "        from cuml.model_selection import train_test_split\n",
    "        from cuml.preprocessing import StandardScaler as cuScaler\n",
    "        print(\"🚀 RAPIDS cuML available! Running on GPU\")\n",
    "    else:\n",
    "        raise ImportError\n",
    "except ImportError:\n",
    "    GPU_AVAILABLE = False\n",
    "    from sklearn.model_selection import train_test_split\n",
    "    from sklearn.preprocessing import StandardScaler\n",
    "    from sklearn.ensemble import RandomForestClassifier\n",
    "    print(\"⚡ RAPIDS not available. Running on CPU.\")\n",
    "\n",
    "# 📌 Load dataset directly to GPU\n",
    "if GPU_AVAILABLE:\n",
    "    df_10 = cudf.from_pandas(df_9)\n",
    "else:\n",
    "    df_10 = df_9.copy()\n",
    "\n",
    "# Define features and target\n",
    "X = df_10.drop(columns=['Flag'])\n",
    "y = df_10['Flag']\n",
    "\n",
    "# ✅ Handle class imbalance (GPU-compatible)\n",
    "if GPU_AVAILABLE:\n",
    "    # Simplified GPU oversampling (adjust as needed)\n",
    "    X_1 = X[y == 1]\n",
    "    X_0 = X[y == 0]\n",
    "    X_0_resampled = X_0.sample(n=len(X_1), replace=True)\n",
    "    X_resampled = cudf.concat([X_1, X_0_resampled])\n",
    "    y_resampled = cudf.Series(cp.concatenate([cp.ones(len(X_1)), cp.zeros(len(X_0_resampled))]))\n",
    "else:\n",
    "    from imblearn.over_sampling import SMOTE\n",
    "    smote = SMOTE(random_state=42)\n",
    "    X_resampled, y_resampled = smote.fit_resample(X, y)\n",
    "\n",
    "# ✅ Split into train/test sets\n",
    "X_train, X_test, y_train, y_test = train_test_split(\n",
    "    X_resampled, y_resampled, test_size=0.2, random_state=42, stratify=y_resampled\n",
    ")\n",
    "\n",
    "# Convert to float32\n",
    "if GPU_AVAILABLE:\n",
    "    X_train = X_train.astype('float32')\n",
    "    X_test = X_test.astype('float32')\n",
    "    y_train = y_train.astype('float32')\n",
    "    y_test = y_test.astype('float32')\n",
    "else:\n",
    "    X_train = X_train.astype(np.float32)\n",
    "    X_test = X_test.astype(np.float32)\n",
    "    y_train = y_train.astype(np.float32)\n",
    "    y_test = y_test.astype(np.float32)\n",
    "\n",
    "# ✅ Standardize features\n",
    "scaler = cuScaler() if GPU_AVAILABLE else StandardScaler()\n",
    "X_train_scaled = scaler.fit_transform(X_train)\n",
    "X_test_scaled = scaler.transform(X_test)\n",
    "\n",
    "# ✅ Choose the model\n",
    "if GPU_AVAILABLE:\n",
    "    print(\"🚀 Using GPU-Accelerated Random Forest (cuML)\")\n",
    "    model = cuRF(n_estimators=100, random_state=42, n_streams=1)\n",
    "else:\n",
    "    print(\"⚡ Using CPU-based Random Forest\")\n",
    "    model = RandomForestClassifier(n_estimators=100, random_state=42, class_weight=\"balanced\", n_jobs=-1)\n",
    "\n",
    "# ✅ Train the model\n",
    "model.fit(X_train_scaled, y_train)\n",
    "\n",
    "# ✅ Predictions and conversion to CPU\n",
    "if GPU_AVAILABLE:\n",
    "    y_pred = model.predict(X_test_scaled).to_numpy()\n",
    "    y_test = y_test.to_numpy()\n",
    "else:\n",
    "    y_pred = model.predict(X_test_scaled)\n",
    "\n",
    "# ✅ Evaluate the model\n",
    "from sklearn.metrics import accuracy_score, classification_report\n",
    "print(\"✅ Accuracy:\", accuracy_score(y_test, y_pred))\n",
    "print(classification_report(y_test, y_pred))\n",
    "\n",
    "# Save model\n",
    "joblib.dump(model, \"rf_model.joblib\")\n"
   ]
  },
  {
   "cell_type": "code",
   "execution_count": 33,
   "id": "f9120899",
   "metadata": {
    "execution": {
     "iopub.execute_input": "2025-02-26T20:48:53.402443Z",
     "iopub.status.busy": "2025-02-26T20:48:53.401905Z",
     "iopub.status.idle": "2025-02-26T20:48:54.225589Z",
     "shell.execute_reply": "2025-02-26T20:48:54.224433Z"
    },
    "papermill": {
     "duration": 0.837452,
     "end_time": "2025-02-26T20:48:54.227303",
     "exception": false,
     "start_time": "2025-02-26T20:48:53.389851",
     "status": "completed"
    },
    "tags": []
   },
   "outputs": [
    {
     "data": {
      "image/png": "[encoded data removed]",
      "text/plain": [
       "<Figure size 1000x800 with 2 Axes>"
      ]
     },
     "metadata": {},
     "output_type": "display_data"
    },
    {
     "data": {
      "image/png": "[encoded data removed]",
      "text/plain": [
       "<Figure size 1000x800 with 1 Axes>"
      ]
     },
     "metadata": {},
     "output_type": "display_data"
    }
   ],
   "source": [
    "import matplotlib.pyplot as plt\n",
    "import seaborn as sns\n",
    "from sklearn.metrics import confusion_matrix, roc_curve, auc\n",
    "\n",
    "# 1. Confusion Matrix\n",
    "plt.figure(figsize=(10, 8))\n",
    "cm = confusion_matrix(y_test, y_pred)\n",
    "sns.heatmap(cm, annot=True, fmt='d', cmap='Blues')\n",
    "plt.title('Confusion Matrix')\n",
    "plt.ylabel('True Label')\n",
    "plt.xlabel('Predicted Label')\n",
    "plt.show()\n",
    "\n",
    "# 2. ROC Curve & AUC Score\n",
    "if GPU_AVAILABLE:\n",
    "    try:\n",
    "        y_pred_proba = model.predict_proba(X_test_scaled)\n",
    "        if isinstance(y_pred_proba, cudf.DataFrame):\n",
    "            y_pred_proba = y_pred_proba.iloc[:, 1].to_numpy()\n",
    "        else:\n",
    "            y_pred_proba = y_pred_proba[:, 1].to_numpy()\n",
    "    except AttributeError:\n",
    "        # If predict_proba is not available, use predict\n",
    "        y_pred_proba = model.predict(X_test_scaled).to_numpy()\n",
    "else:\n",
    "    y_pred_proba = model.predict_proba(X_test_scaled)[:, 1]\n",
    "\n",
    "fpr, tpr, _ = roc_curve(y_test, y_pred_proba)\n",
    "roc_auc = auc(fpr, tpr)\n",
    "\n",
    "\n",
    "plt.figure(figsize=(10, 8))\n",
    "plt.plot(fpr, tpr, color='darkorange', lw=2, label=f'ROC curve (AUC = {roc_auc:.2f})')\n",
    "plt.plot([0, 1], [0, 1], color='navy', lw=2, linestyle='--')\n",
    "plt.xlim([0.0, 1.0])\n",
    "plt.ylim([0.0, 1.05])\n",
    "plt.xlabel('False Positive Rate')\n",
    "plt.ylabel('True Positive Rate')\n",
    "plt.title('Receiver Operating Characteristic (ROC) Curve')\n",
    "plt.legend(loc=\"lower right\")\n",
    "plt.show()\n",
    "\n",
    "# # 3. Feature Importance Plot\n",
    "# if GPU_AVAILABLE:\n",
    "#     feature_importance = model.feature_importances_.to_numpy()\n",
    "# else:\n",
    "#     feature_importance = model.feature_importances_\n",
    "\n",
    "# feature_names = X.columns.to_numpy() if GPU_AVAILABLE else X.columns\n",
    "\n",
    "# # Sort features by importance\n",
    "# sorted_idx = np.argsort(feature_importance)\n",
    "# sorted_features = feature_names[sorted_idx]\n",
    "# sorted_importance = feature_importance[sorted_idx]\n",
    "\n",
    "# # Plot top 20 features\n",
    "# plt.figure(figsize=(12, 8))\n",
    "# plt.barh(range(20), sorted_importance[-20:])\n",
    "# plt.yticks(range(20), sorted_features[-20:])\n",
    "# plt.xlabel('Feature Importance')\n",
    "# plt.title('Top 20 Most Important Features')\n",
    "# plt.tight_layout()\n",
    "# plt.show()\n"
   ]
  },
  {
   "cell_type": "code",
   "execution_count": 34,
   "id": "af316e4e",
   "metadata": {
    "execution": {
     "iopub.execute_input": "2025-02-26T20:48:54.258692Z",
     "iopub.status.busy": "2025-02-26T20:48:54.258249Z",
     "iopub.status.idle": "2025-02-26T20:48:54.263806Z",
     "shell.execute_reply": "2025-02-26T20:48:54.262862Z"
    },
    "papermill": {
     "duration": 0.022387,
     "end_time": "2025-02-26T20:48:54.265289",
     "exception": false,
     "start_time": "2025-02-26T20:48:54.242902",
     "status": "completed"
    },
    "tags": []
   },
   "outputs": [],
   "source": [
    "# import cudf\n",
    "# import cupy as cp\n",
    "# import numpy as np\n",
    "# import matplotlib.pyplot as plt\n",
    "# from cuml.metrics import accuracy_score as cu_accuracy_score\n",
    "\n",
    "# def permutation_importance(model, X, y, n_repeats=10, random_state=42):\n",
    "#     cp.random.seed(random_state)\n",
    "    \n",
    "#     # Ensure y is a 1D array\n",
    "#     y = y.squeeze() if isinstance(y, cudf.DataFrame) else y\n",
    "    \n",
    "#     # Get initial score\n",
    "#     y_pred = model.predict(X)\n",
    "#     y_pred = y_pred.squeeze() if isinstance(y_pred, cudf.DataFrame) else y_pred\n",
    "#     baseline_score = cu_accuracy_score(y, y_pred)\n",
    "    \n",
    "#     importances = []\n",
    "    \n",
    "#     for col in X.columns:\n",
    "#         scores = []\n",
    "#         for _ in range(n_repeats):\n",
    "#             # Create a copy and shuffle the feature\n",
    "#             X_shuffled = X.copy()\n",
    "#             X_shuffled[col] = X_shuffled[col].sample(frac=1.0, replace=False).reset_index(drop=True)\n",
    "            \n",
    "#             # Predict and calculate score\n",
    "#             y_pred = model.predict(X_shuffled)\n",
    "#             y_pred = y_pred.squeeze() if isinstance(y_pred, cudf.DataFrame) else y_pred\n",
    "#             score = cu_accuracy_score(y, y_pred)\n",
    "            \n",
    "#             # Calculate importance\n",
    "#             importance = baseline_score - score\n",
    "#             scores.append(importance)\n",
    "        \n",
    "#         importances.append(np.mean(scores))\n",
    "    \n",
    "#     return cudf.Series(importances, index=X.columns)\n",
    "\n",
    "\n",
    "# # Calculate permutation importance\n",
    "# feature_importance = permutation_importance(model, X_test_scaled, y_test)\n",
    "\n",
    "# # Convert to CPU for plotting\n",
    "# feature_importance_cpu = feature_importance.to_pandas()\n",
    "\n",
    "# # Sort features by importance\n",
    "# sorted_idx = feature_importance_cpu.argsort()\n",
    "# sorted_features = feature_importance_cpu.index[sorted_idx]\n",
    "# sorted_importance = feature_importance_cpu.values[sorted_idx]\n",
    "\n",
    "# # Determine the number of features to plot (all features if less than 20, otherwise top 20)\n",
    "# n_features_to_plot = min(len(sorted_features), 20)\n",
    "\n",
    "# # Plot features\n",
    "# plt.figure(figsize=(12, 8))\n",
    "# plt.barh(range(n_features_to_plot), sorted_importance[-n_features_to_plot:])\n",
    "# plt.yticks(range(n_features_to_plot), sorted_features[-n_features_to_plot:])\n",
    "# plt.xlabel('Feature Importance (Decrease in Accuracy)')\n",
    "# plt.title(f'Top {n_features_to_plot} Most Important Features (Permutation Importance)')\n",
    "# plt.tight_layout()\n",
    "# plt.show()\n",
    "\n",
    "# # Print feature importances\n",
    "# print(\"Feature Importances:\")\n",
    "# for feature, importance in feature_importance_cpu.sort_values(ascending=False).items():\n",
    "#     print(f\"{feature}: {importance:.4f}\")\n"
   ]
  },
  {
   "cell_type": "code",
   "execution_count": 35,
   "id": "fc7fa2de",
   "metadata": {
    "execution": {
     "iopub.execute_input": "2025-02-26T20:48:54.295373Z",
     "iopub.status.busy": "2025-02-26T20:48:54.294968Z",
     "iopub.status.idle": "2025-02-26T20:48:58.454962Z",
     "shell.execute_reply": "2025-02-26T20:48:58.452719Z"
    },
    "papermill": {
     "duration": 4.180319,
     "end_time": "2025-02-26T20:48:58.459751",
     "exception": false,
     "start_time": "2025-02-26T20:48:54.279432",
     "status": "completed"
    },
    "tags": []
   },
   "outputs": [
    {
     "name": "stdout",
     "output_type": "stream",
     "text": [
      "🚀 RAPIDS cuML available! Running on GPU\n",
      "🚀 Using GPU-Accelerated XGBoost\n"
     ]
    },
    {
     "name": "stderr",
     "output_type": "stream",
     "text": [
      "/usr/local/lib/python3.10/dist-packages/xgboost/data.py:839: FutureWarning: Index.format is deprecated and will be removed in a future version. Convert using index.astype(str) or index.map(formatter) instead.\n",
      "  feature_names = data.columns.format()\n"
     ]
    },
    {
     "name": "stdout",
     "output_type": "stream",
     "text": [
      "✅ Accuracy: 1.0\n",
      "              precision    recall  f1-score   support\n",
      "\n",
      "         0.0       1.00      1.00      1.00    117504\n",
      "         1.0       1.00      1.00      1.00    117504\n",
      "\n",
      "    accuracy                           1.00    235008\n",
      "   macro avg       1.00      1.00      1.00    235008\n",
      "weighted avg       1.00      1.00      1.00    235008\n",
      "\n"
     ]
    },
    {
     "name": "stderr",
     "output_type": "stream",
     "text": [
      "/usr/local/lib/python3.10/dist-packages/xgboost/data.py:839: FutureWarning: Index.format is deprecated and will be removed in a future version. Convert using index.astype(str) or index.map(formatter) instead.\n",
      "  feature_names = data.columns.format()\n"
     ]
    },
    {
     "data": {
      "text/plain": [
       "['xgb_model.joblib']"
      ]
     },
     "execution_count": 35,
     "metadata": {},
     "output_type": "execute_result"
    }
   ],
   "source": [
    "import os\n",
    "import pandas as pd\n",
    "import numpy as np\n",
    "import xgboost as xgb\n",
    "\n",
    "# ✅ Detect GPU availability\n",
    "GPU_AVAILABLE = os.path.exists('/dev/nvidia0')\n",
    "\n",
    "try:\n",
    "    if GPU_AVAILABLE:\n",
    "        import cudf\n",
    "        import cupy as cp\n",
    "        from cuml.model_selection import train_test_split as cuml_train_test_split\n",
    "        from cuml.preprocessing import StandardScaler as cuScaler\n",
    "        print(\"🚀 RAPIDS cuML available! Running on GPU\")\n",
    "    else:\n",
    "        raise ImportError\n",
    "except ImportError:\n",
    "    GPU_AVAILABLE = False\n",
    "    from sklearn.model_selection import train_test_split\n",
    "    from sklearn.preprocessing import StandardScaler\n",
    "    print(\"⚡ RAPIDS not available. Running on CPU.\")\n",
    "\n",
    "# 📌 Load dataset directly to GPU\n",
    "if GPU_AVAILABLE:\n",
    "    # Assuming df_9 is already loaded as a pandas DataFrame before this block.\n",
    "    df_10 = cudf.from_pandas(df_9)\n",
    "else:\n",
    "    df_10 = df_9.copy()\n",
    "\n",
    "# Define features and target\n",
    "X = df_10.drop(columns=['Flag'])\n",
    "y = df_10['Flag']\n",
    "\n",
    "# ✅ Handle class imbalance (GPU-compatible)\n",
    "if GPU_AVAILABLE:\n",
    "    X_1 = X[y == 1]\n",
    "    X_0 = X[y == 0]\n",
    "    X_0_resampled = X_0.sample(n=len(X_1), replace=True)\n",
    "    X_resampled = cudf.concat([X_1, X_0_resampled])\n",
    "    y_resampled = cudf.Series(cp.concatenate([cp.ones(len(X_1)), cp.zeros(len(X_0_resampled))]))\n",
    "else:\n",
    "    from imblearn.over_sampling import SMOTE\n",
    "    smote = SMOTE(random_state=42)\n",
    "    X_resampled, y_resampled = smote.fit_resample(X, y)\n",
    "\n",
    "# ✅ Convert cudf DataFrame to NumPy arrays for train_test_split if using GPU\n",
    "if GPU_AVAILABLE:\n",
    "    X_resampled_cpu = X_resampled.to_pandas().values  # Convert cudf to pandas, then to NumPy\n",
    "    y_resampled_cpu = y_resampled.to_pandas().values\n",
    "else:\n",
    "    X_resampled_cpu = X_resampled\n",
    "    y_resampled_cpu = y_resampled\n",
    "\n",
    "# ✅ Split into train/test sets (works for both CPU and GPU)\n",
    "X_train, X_test, y_train, y_test = train_test_split(\n",
    "    X_resampled_cpu, y_resampled_cpu, test_size=0.2, random_state=42, stratify=y_resampled_cpu\n",
    ")\n",
    "\n",
    "# ✅ Convert back to cudf DataFrame if GPU is available\n",
    "if GPU_AVAILABLE:\n",
    "    X_train = cudf.DataFrame.from_pandas(pd.DataFrame(X_train))  # Convert back to cudf DataFrame\n",
    "    X_test = cudf.DataFrame.from_pandas(pd.DataFrame(X_test))\n",
    "    y_train = cudf.Series(y_train)\n",
    "    y_test = cudf.Series(y_test)\n",
    "\n",
    "# ✅ Convert to float32\n",
    "if GPU_AVAILABLE:\n",
    "    X_train = X_train.astype('float32')\n",
    "    X_test = X_test.astype('float32')\n",
    "    y_train = y_train.astype('float32')\n",
    "    y_test = y_test.astype('float32')\n",
    "else:\n",
    "    X_train = X_train.astype(np.float32)\n",
    "    X_test = X_test.astype(np.float32)\n",
    "    y_train = y_train.astype(np.float32)\n",
    "    y_test = y_test.astype(np.float32)\n",
    "\n",
    "# ✅ Standardize features\n",
    "scaler = cuScaler() if GPU_AVAILABLE else StandardScaler()\n",
    "X_train_scaled = scaler.fit_transform(X_train)\n",
    "X_test_scaled = scaler.transform(X_test)\n",
    "\n",
    "# Convert columns to explicit string names (FIX HERE)\n",
    "if GPU_AVAILABLE:\n",
    "    # For cuDF\n",
    "    X_train_scaled.columns = X_train_scaled.columns.astype('str')\n",
    "    X_test_scaled.columns = X_test_scaled.columns.astype('str')\n",
    "else:\n",
    "    # For pandas\n",
    "    X_train_scaled.columns = X_train_scaled.columns.astype(str)\n",
    "    X_test_scaled.columns = X_test_scaled.columns.astype(str)\n",
    "\n",
    "\n",
    "# ✅ Choose the model\n",
    "params = {\n",
    "    \"objective\": \"binary:logistic\",\n",
    "    \"eval_metric\": \"logloss\",\n",
    "    \"n_estimators\": 100,\n",
    "    \"random_state\": 42,\n",
    "    \"device\": \"cuda\"\n",
    "}\n",
    "\n",
    "if GPU_AVAILABLE:\n",
    "    print(\"🚀 Using GPU-Accelerated XGBoost\")\n",
    "    params[\"tree_method\"] = \"hist\"  # Enable GPU\n",
    "else:\n",
    "    print(\"⚡ Using CPU-based XGBoost\")\n",
    "    params[\"tree_method\"] = \"hist\"\n",
    "\n",
    "model = xgb.XGBClassifier(**params)\n",
    "\n",
    "# ✅ Train the model\n",
    "model.fit(X_train_scaled, y_train)\n",
    "\n",
    "# ✅ Predictions and conversion to CPU if necessary\n",
    "if GPU_AVAILABLE:\n",
    "    # Predictions are already in NumPy array format, no need for .to_numpy()\n",
    "    y_pred = model.predict(X_test_scaled)\n",
    "    # Only convert y_test if it's a cudf Series\n",
    "    y_test = y_test.to_numpy()  # Convert cudf to NumPy\n",
    "else:\n",
    "    y_pred = model.predict(X_test_scaled)  # No conversion needed here either\n",
    "\n",
    "# ✅ Evaluate the model\n",
    "from sklearn.metrics import accuracy_score, classification_report\n",
    "print(\"✅ Accuracy:\", accuracy_score(y_test, y_pred))\n",
    "print(classification_report(y_test, y_pred))\n",
    "\n",
    "# Save model\n",
    "joblib.dump(model, \"xgb_model.joblib\")\n"
   ]
  },
  {
   "cell_type": "code",
   "execution_count": 36,
   "id": "661e7639",
   "metadata": {
    "execution": {
     "iopub.execute_input": "2025-02-26T20:48:58.490288Z",
     "iopub.status.busy": "2025-02-26T20:48:58.489986Z",
     "iopub.status.idle": "2025-02-26T20:48:59.536140Z",
     "shell.execute_reply": "2025-02-26T20:48:59.535170Z"
    },
    "papermill": {
     "duration": 1.062943,
     "end_time": "2025-02-26T20:48:59.537615",
     "exception": false,
     "start_time": "2025-02-26T20:48:58.474672",
     "status": "completed"
    },
    "tags": []
   },
   "outputs": [
    {
     "data": {
      "image/png": "[encoded data removed]",
      "text/plain": [
       "<Figure size 1000x800 with 2 Axes>"
      ]
     },
     "metadata": {},
     "output_type": "display_data"
    },
    {
     "name": "stderr",
     "output_type": "stream",
     "text": [
      "/usr/local/lib/python3.10/dist-packages/xgboost/data.py:839: FutureWarning: RangeIndex.format is deprecated and will be removed in a future version. Convert using index.astype(str) or index.map(formatter) instead.\n",
      "  feature_names = data.columns.format()\n"
     ]
    },
    {
     "data": {
      "image/png": "[encoded data removed]",
      "text/plain": [
       "<Figure size 1000x800 with 1 Axes>"
      ]
     },
     "metadata": {},
     "output_type": "display_data"
    }
   ],
   "source": [
    "import matplotlib.pyplot as plt\n",
    "import seaborn as sns\n",
    "import numpy as np\n",
    "import xgboost as xgb\n",
    "from sklearn.metrics import confusion_matrix, roc_curve, auc\n",
    "\n",
    "# 1. Confusion Matrix\n",
    "plt.figure(figsize=(10, 8))\n",
    "cm = confusion_matrix(y_test, y_pred)\n",
    "sns.heatmap(cm, annot=True, fmt='d', cmap='Blues')\n",
    "plt.title('Confusion Matrix')\n",
    "plt.ylabel('True Label')\n",
    "plt.xlabel('Predicted Label')\n",
    "plt.show()\n",
    "\n",
    "# 2. ROC Curve & AUC Score\n",
    "y_pred_proba = model.predict_proba(X_test)[:, 1]\n",
    "\n",
    "fpr, tpr, _ = roc_curve(y_test, y_pred_proba)\n",
    "roc_auc = auc(fpr, tpr)\n",
    "\n",
    "plt.figure(figsize=(10, 8))\n",
    "plt.plot(fpr, tpr, color='darkorange', lw=2, label=f'ROC curve (AUC = {roc_auc:.2f})')\n",
    "plt.plot([0, 1], [0, 1], color='navy', lw=2, linestyle='--')\n",
    "plt.xlim([0.0, 1.0])\n",
    "plt.ylim([0.0, 1.05])\n",
    "plt.xlabel('False Positive Rate')\n",
    "plt.ylabel('True Positive Rate')\n",
    "plt.title('Receiver Operating Characteristic (ROC) Curve')\n",
    "plt.legend(loc=\"lower right\")\n",
    "plt.show()\n",
    "\n",
    "# # 3. Feature Importance Plot\n",
    "# feature_importance = model.feature_importances_\n",
    "# feature_names = X_train.columns.to_numpy()\n",
    "\n",
    "# # Sort features by importance\n",
    "# sorted_idx = np.argsort(feature_importance)\n",
    "# sorted_features = feature_names[sorted_idx]\n",
    "# sorted_importance = feature_importance[sorted_idx]\n",
    "\n",
    "# # Plot top 20 features\n",
    "# plt.figure(figsize=(12, 8))\n",
    "# plt.barh(range(20), sorted_importance[-20:])\n",
    "# plt.yticks(range(20), sorted_features[-20:])\n",
    "# plt.xlabel('Feature Importance')\n",
    "# plt.title('Top 20 Most Important Features')\n",
    "# plt.tight_layout()\n",
    "# plt.show()\n"
   ]
  },
  {
   "cell_type": "code",
   "execution_count": null,
   "id": "9eed235a",
   "metadata": {
    "papermill": {
     "duration": 0.019496,
     "end_time": "2025-02-26T20:48:59.586886",
     "exception": false,
     "start_time": "2025-02-26T20:48:59.567390",
     "status": "completed"
    },
    "tags": []
   },
   "outputs": [],
   "source": []
  }
 ],
 "metadata": {
  "kaggle": {
   "accelerator": "nvidiaTeslaT4",
   "dataSources": [
    {
     "datasetId": 6592386,
     "sourceId": 10647102,
     "sourceType": "datasetVersion"
    }
   ],
   "dockerImageVersionId": 30839,
   "isGpuEnabled": true,
   "isInternetEnabled": true,
   "language": "python",
   "sourceType": "notebook"
  },
  "kernelspec": {
   "display_name": "Python 3",
   "language": "python",
   "name": "python3"
  },
  "language_info": {
   "codemirror_mode": {
    "name": "ipython",
    "version": 3
   },
   "file_extension": ".py",
   "mimetype": "text/x-python",
   "name": "python",
   "nbconvert_exporter": "python",
   "pygments_lexer": "ipython3",
   "version": "3.10.12"
  },
  "papermill": {
   "default_parameters": {},
   "duration": 118.824106,
   "end_time": "2025-02-26T20:49:02.865501",
   "environment_variables": {},
   "exception": null,
   "input_path": "__notebook__.ipynb",
   "output_path": "__notebook__.ipynb",
   "parameters": {},
   "start_time": "2025-02-26T20:47:04.041395",
   "version": "2.6.0"
  }
 },
 "nbformat": 4,
 "nbformat_minor": 5
}
